{
 "cells": [
  {
   "cell_type": "code",
   "execution_count": 1,
   "id": "e7b0558e",
   "metadata": {},
   "outputs": [],
   "source": [
    "%load_ext autoreload\n",
    "%autoreload 2"
   ]
  },
  {
   "cell_type": "code",
   "execution_count": 2,
   "id": "55b4b235",
   "metadata": {},
   "outputs": [],
   "source": [
    "import torch\n",
    "import torch.nn as nn\n",
    "import os\n",
    "from PIL import Image\n",
    "from torch.utils.data import Dataset, DataLoader\n",
    "from pathlib import PosixPath\n",
    "from typing import Union, Tuple, List, Sequence\n",
    "from torchvision.transforms import Compose, Resize, InterpolationMode, ToTensor, ToPILImage, Normalize\n",
    "from torch import Tensor\n",
    "import numpy as np\n",
    "import multiprocessing as mp\n",
    "import torch.nn.functional as F\n",
    "import pandas as pd\n",
    "from time import time\n",
    "from tqdm import tqdm\n",
    "import logging\n",
    "from collections import OrderedDict\n",
    "from matplotlib import pyplot as plt"
   ]
  },
  {
   "cell_type": "markdown",
   "id": "13854b87",
   "metadata": {},
   "source": [
    "## Importing custom modules"
   ]
  },
  {
   "cell_type": "code",
   "execution_count": 3,
   "id": "05415449",
   "metadata": {},
   "outputs": [],
   "source": [
    "from super_image_resolution import get_root_path\n",
    "from super_image_resolution.utils import (\n",
    "    split, \n",
    "    make_dirs, \n",
    "    find_latest_model_version, \n",
    "    compute2d_means_and_stds, \n",
    "    load,\n",
    "    dump,\n",
    "    save_output)\n",
    "from super_image_resolution.datasets import CustomDataset\n",
    "from super_image_resolution.transforms import CustomResize, InvertNormalize\n",
    "from super_image_resolution.models.unet import UNet"
   ]
  },
  {
   "cell_type": "markdown",
   "id": "fa82747b",
   "metadata": {},
   "source": [
    "## Experiment configuration"
   ]
  },
  {
   "cell_type": "code",
   "execution_count": 4,
   "id": "62e479e3",
   "metadata": {},
   "outputs": [],
   "source": [
    "HPARAMS = OrderedDict()"
   ]
  },
  {
   "cell_type": "code",
   "execution_count": 5,
   "id": "814222fa",
   "metadata": {},
   "outputs": [],
   "source": [
    "HPARAMS[\"PROJECT_PATH\"] = get_root_path()\n",
    "HPARAMS[\"ASSETS_PATH\"] = os.path.join(HPARAMS[\"PROJECT_PATH\"], \"assets\")\n",
    "HPARAMS[\"DATA_PATH\"] = os.path.join(\"/\", \"scratch\", \"mittal.nit\", \"faces-spring-2020\")\n",
    "\n",
    "HPARAMS[\"MODEL_NAME\"] = \"unet_l1loss_batchnorm\"\n",
    "HPARAMS[\"MODEL_PATH\"] = os.path.join(HPARAMS[\"ASSETS_PATH\"], HPARAMS[\"MODEL_NAME\"])"
   ]
  },
  {
   "cell_type": "code",
   "execution_count": 6,
   "id": "ec7f45de",
   "metadata": {},
   "outputs": [
    {
     "name": "stdout",
     "output_type": "stream",
     "text": [
      "/home/mittal.nit/projects/super_image_resolution/assets already exists\n",
      "Created path /home/mittal.nit/projects/super_image_resolution/assets/unet_l1loss_batchnorm\n"
     ]
    }
   ],
   "source": [
    "make_dirs(HPARAMS[\"ASSETS_PATH\"])\n",
    "make_dirs(HPARAMS[\"MODEL_PATH\"])"
   ]
  },
  {
   "cell_type": "code",
   "execution_count": 7,
   "id": "f8179d79",
   "metadata": {},
   "outputs": [
    {
     "name": "stdout",
     "output_type": "stream",
     "text": [
      "Current version: 1\n"
     ]
    }
   ],
   "source": [
    "HPARAMS[\"WEIGHTS_PATH\"] = os.path.join(HPARAMS[\"MODEL_PATH\"], \"weights\")\n",
    "HPARAMS[\"MODEL_WEIGHTS\"] = \"model\"\n",
    "HPARAMS[\"OPTIM_WEIGHTS\"] = \"optim\"\n",
    "HPARAMS[\"LR_SCH_WEIGHTS\"] = \"lr_sch\"\n",
    "\n",
    "HPARAMS[\"VERSION\"] = find_latest_model_version(HPARAMS[\"MODEL_PATH\"]) + 1\n",
    "print(f\"Current version: {HPARAMS['VERSION']}\")\n",
    "# HPARAMS[\"VERSION\"] = 0\n",
    "HPARAMS[\"EXPERIMENT_VERSION_PATH\"] = os.path.join(HPARAMS[\"MODEL_PATH\"], f\"version_{HPARAMS['VERSION']}\")\n",
    "HPARAMS[\"LOG\"] = \"log\"\n",
    "HPARAMS[\"HPARAMS\"] = \"hparams\"\n",
    "HPARAMS[\"METRICS\"] = \"metrics\"\n",
    "HPARAMS[\"IMAGES_PATH\"] = os.path.join(HPARAMS[\"EXPERIMENT_VERSION_PATH\"], \"images\", \"val\")"
   ]
  },
  {
   "cell_type": "code",
   "execution_count": 8,
   "id": "0d31fe2c",
   "metadata": {},
   "outputs": [
    {
     "name": "stdout",
     "output_type": "stream",
     "text": [
      "Created path /home/mittal.nit/projects/super_image_resolution/assets/unet_l1loss_batchnorm/weights\n",
      "Created path /home/mittal.nit/projects/super_image_resolution/assets/unet_l1loss_batchnorm/version_1\n",
      "Created path /home/mittal.nit/projects/super_image_resolution/assets/unet_l1loss_batchnorm/version_1/images/val\n"
     ]
    }
   ],
   "source": [
    "make_dirs(HPARAMS[\"WEIGHTS_PATH\"])\n",
    "make_dirs(HPARAMS[\"EXPERIMENT_VERSION_PATH\"])\n",
    "make_dirs(HPARAMS[\"IMAGES_PATH\"])"
   ]
  },
  {
   "cell_type": "code",
   "execution_count": 9,
   "id": "4a514b74",
   "metadata": {},
   "outputs": [],
   "source": [
    "logging.basicConfig(\n",
    "    filename=os.path.join(HPARAMS[\"EXPERIMENT_VERSION_PATH\"], HPARAMS[\"LOG\"]),\n",
    "    format='%(asctime)s %(message)s',\n",
    "    datefmt='%m/%d/%Y %I:%M:%S %p',\n",
    "    encoding='utf-8', \n",
    "    level=logging.INFO)"
   ]
  },
  {
   "cell_type": "code",
   "execution_count": 10,
   "id": "e1120404",
   "metadata": {},
   "outputs": [],
   "source": [
    "HPARAMS[\"SPLIT_RATIOS\"] = (.85, .10, .05)\n",
    "HPARAMS[\"RANDOM_SEED\"] = 40\n",
    "\n",
    "HPARAMS[\"TRAIN_BATCH_SIZE\"] = 64\n",
    "HPARAMS[\"VAL_BATCH_SIZE\"] = 128\n",
    "HPARAMS[\"TEST_BATCH_SIZE\"] = 128\n",
    "HPARAMS[\"NUM_WORKERS\"] = max(0, (mp.cpu_count() - 7) // 3)\n",
    "\n",
    "HPARAMS[\"PRE_TRAINED\"] = True\n",
    "HPARAMS[\"IN_CHANNELS\"] = 3\n",
    "HPARAMS[\"OUT_CHANNELS\"] = 3\n",
    "HPARAMS[\"ACTIVATION\"] = \"lrelu\"\n",
    "HPARAMS[\"NORM\"] = \"batchnorm\"\n",
    "HPARAMS[\"DEVICE\"] = \"cuda\" if torch.cuda.is_available() else \"cpu\"\n",
    "# HPARAMS[\"DEVICE\"] = \"cpu\"\n",
    "\n",
    "HPARAMS[\"DATA_IN_NORM\"] = {\n",
    "    \"means\": [0.5351, 0.4395, 0.3800],\n",
    "    \"stds\": [0.2339, 0.2071, 0.2065]}\n",
    "\n",
    "HPARAMS[\"DATA_OUT_NORM\"] = {\n",
    "    \"means\": [0.5345, 0.4390, 0.3796], \n",
    "    \"stds\": [0.2353, 0.2083, 0.2074]}\n",
    "HPARAMS[\"SCALE_Y\"] = 2.3\n",
    "\n",
    "HPARAMS[\"EPOCHS\"] = 50\n",
    "HPARAMS[\"LR\"] = 1e-3\n",
    "HPARAMS[\"BETAS\"] = (.5, .9)\n",
    " \n",
    "HPARAMS[\"LR_STEP_SIZE\"] = 10\n",
    "HPARAMS[\"LR_GAMMA\"] = .999\n",
    "\n",
    "HPARAMS[\"INBETWEEN_SAVE_METRICS_INTERVAL\"] = 25\n",
    "HPARAMS[\"MAX_VAL_SAVE_SAMPLES\"] = min(5, HPARAMS[\"VAL_BATCH_SIZE\"])\n",
    "HPARAMS[\"VAL_RANDOM_SAVE_SAMPLES\"] = True"
   ]
  },
  {
   "cell_type": "markdown",
   "id": "1de3b9b2",
   "metadata": {},
   "source": [
    "## Initializing transformations"
   ]
  },
  {
   "cell_type": "code",
   "execution_count": 11,
   "id": "dc0f38e7",
   "metadata": {},
   "outputs": [],
   "source": [
    "logging.info(\"Defininig transformations\")\n",
    "in_transforms = Compose([\n",
    "    CustomResize(size=64, interpolation=InterpolationMode.BICUBIC), \n",
    "    CustomResize(size=128, interpolation=InterpolationMode.BICUBIC), \n",
    "    ToTensor(), \n",
    "    Normalize(mean=HPARAMS[\"DATA_IN_NORM\"][\"means\"], std=HPARAMS[\"DATA_IN_NORM\"][\"stds\"])\n",
    "])\n",
    "    \n",
    "out_transforms = Compose([\n",
    "    Resize(size=128, interpolation=InterpolationMode.BICUBIC), \n",
    "    ToTensor(),\n",
    "    Normalize(mean=HPARAMS[\"DATA_OUT_NORM\"][\"means\"], std=HPARAMS[\"DATA_OUT_NORM\"][\"stds\"])\n",
    "])"
   ]
  },
  {
   "cell_type": "code",
   "execution_count": 12,
   "id": "03d7c5f2",
   "metadata": {},
   "outputs": [],
   "source": [
    "logging.info(\"Splitting data into train, val and test set\")\n",
    "train, val, test = split(\n",
    "    path=HPARAMS[\"DATA_PATH\"], \n",
    "    ratios=HPARAMS[\"SPLIT_RATIOS\"],\n",
    "    seed=HPARAMS[\"RANDOM_SEED\"])\n",
    "\n",
    "HPARAMS[\"NUM_TRAIN_SAMPLES\"] = len(train)\n",
    "HPARAMS[\"NUM_VAL_SAMPLES\"] = len(val)\n",
    "HPARAMS[\"NUM_TEST_SAMPLES\"] = len(test)"
   ]
  },
  {
   "cell_type": "markdown",
   "id": "cea706d3",
   "metadata": {},
   "source": [
    "## Initializing Datasets"
   ]
  },
  {
   "cell_type": "code",
   "execution_count": 13,
   "id": "678005c9",
   "metadata": {},
   "outputs": [],
   "source": [
    "logging.info(\"Initializing datasets\")\n",
    "train_dataset = CustomDataset(\n",
    "    paths=train, in_transforms=in_transforms, out_transforms=out_transforms)\n",
    "\n",
    "val_dataset = CustomDataset(\n",
    "    paths=val, in_transforms=in_transforms, out_transforms=out_transforms)\n",
    "\n",
    "test_dataset = CustomDataset(\n",
    "    paths=test, in_transforms=in_transforms, out_transforms=out_transforms)"
   ]
  },
  {
   "cell_type": "markdown",
   "id": "b7d7a980",
   "metadata": {},
   "source": [
    "## Initializing Dataloaders"
   ]
  },
  {
   "cell_type": "code",
   "execution_count": 14,
   "id": "f22bfbeb",
   "metadata": {},
   "outputs": [],
   "source": [
    "# train_loader = DataLoader(\n",
    "#     dataset=train_dataset, \n",
    "#     batch_size=HPARAMS[\"TRAIN_BATCH_SIZE\"],\n",
    "#     shuffle=True, \n",
    "#     num_workers=12)"
   ]
  },
  {
   "cell_type": "code",
   "execution_count": 15,
   "id": "a4239ecc",
   "metadata": {},
   "outputs": [],
   "source": [
    "# i, o = next(iter(train_loader))\n",
    "# i.shape, i.min(), i.max(), o.min(), o.max()"
   ]
  },
  {
   "cell_type": "code",
   "execution_count": 16,
   "id": "8a3fd7a3",
   "metadata": {},
   "outputs": [],
   "source": [
    "# ToPILImage()(i[0])"
   ]
  },
  {
   "cell_type": "code",
   "execution_count": 17,
   "id": "b1717198",
   "metadata": {},
   "outputs": [],
   "source": [
    "# ToPILImage()(o[0])"
   ]
  },
  {
   "cell_type": "code",
   "execution_count": 18,
   "id": "2f798179",
   "metadata": {},
   "outputs": [],
   "source": [
    "# (means_in, stds_in), (means_out, stds_out) = compute2d_means_and_stds(num_channels=3, data_loader=train_loader)\n",
    "# (means_in, stds_in), (means_out, stds_out)"
   ]
  },
  {
   "cell_type": "code",
   "execution_count": 19,
   "id": "278d4271",
   "metadata": {},
   "outputs": [],
   "source": [
    "logging.info(\"Initializing data loaders\")\n",
    "train_loader = DataLoader(\n",
    "    dataset=train_dataset, \n",
    "    batch_size=HPARAMS[\"TRAIN_BATCH_SIZE\"],\n",
    "    shuffle=True, \n",
    "    num_workers=HPARAMS[\"NUM_WORKERS\"])\n",
    "\n",
    "val_loader = DataLoader(\n",
    "    dataset=val_dataset, \n",
    "    batch_size=HPARAMS[\"VAL_BATCH_SIZE\"],\n",
    "    shuffle=False,\n",
    "    num_workers=HPARAMS[\"NUM_WORKERS\"])\n",
    "\n",
    "test_loader = DataLoader(\n",
    "    dataset=val_dataset, \n",
    "    batch_size=HPARAMS[\"TEST_BATCH_SIZE\"],\n",
    "    shuffle=False, \n",
    "    num_workers=HPARAMS[\"NUM_WORKERS\"])"
   ]
  },
  {
   "cell_type": "code",
   "execution_count": 20,
   "id": "3e600b33",
   "metadata": {},
   "outputs": [],
   "source": [
    "HPARAMS[\"NUM_TRAIN_BATCHES\"] = len(train_loader)\n",
    "HPARAMS[\"NUM_VAL_BATCHES\"] = len(val_loader)\n",
    "HPARAMS[\"NUM_TEST_BATCHES\"] = len(test_loader)\n",
    "\n",
    "HPARAMS[\"INBETWEEN_TRAIN_VAL_CHECK_INTERVAL\"] = min(25, HPARAMS[\"NUM_TRAIN_BATCHES\"])"
   ]
  },
  {
   "cell_type": "code",
   "execution_count": 21,
   "id": "be307741",
   "metadata": {},
   "outputs": [
    {
     "data": {
      "text/plain": [
       "(torch.Size([64, 3, 128, 128]),\n",
       " tensor(-2.2877),\n",
       " tensor(3.0024),\n",
       " tensor(-2.2716),\n",
       " tensor(2.9913))"
      ]
     },
     "execution_count": 21,
     "metadata": {},
     "output_type": "execute_result"
    }
   ],
   "source": [
    "i, o = next(iter(train_loader))\n",
    "i.shape, i.min(), i.max(), o.min(), o.max()"
   ]
  },
  {
   "cell_type": "code",
   "execution_count": 22,
   "id": "db9552a6",
   "metadata": {},
   "outputs": [
    {
     "data": {
      "image/png": "[encoded data removed]",
      "text/plain": [
       "<PIL.Image.Image image mode=RGB size=128x128 at 0x2B3197ECFB50>"
      ]
     },
     "execution_count": 22,
     "metadata": {},
     "output_type": "execute_result"
    }
   ],
   "source": [
    "ToPILImage()(i[0])"
   ]
  },
  {
   "cell_type": "code",
   "execution_count": 23,
   "id": "71c52d80",
   "metadata": {},
   "outputs": [
    {
     "data": {
      "image/png": "[encoded data removed]",
      "text/plain": [
       "<PIL.Image.Image image mode=RGB size=128x128 at 0x2B3197ECF3A0>"
      ]
     },
     "execution_count": 23,
     "metadata": {},
     "output_type": "execute_result"
    }
   ],
   "source": [
    "ToPILImage()(o[0])"
   ]
  },
  {
   "cell_type": "code",
   "execution_count": 24,
   "id": "daf45c60",
   "metadata": {},
   "outputs": [],
   "source": [
    "in_invert_norm = InvertNormalize(\n",
    "    num_channels=3,\n",
    "    mean=torch.tensor(HPARAMS[\"DATA_IN_NORM\"][\"means\"]),\n",
    "    std=torch.tensor(HPARAMS[\"DATA_IN_NORM\"][\"stds\"]))\n",
    "\n",
    "out_invert_norm = InvertNormalize(\n",
    "    num_channels=3,\n",
    "    mean=torch.tensor(HPARAMS[\"DATA_OUT_NORM\"][\"means\"]),\n",
    "    std=torch.tensor(HPARAMS[\"DATA_OUT_NORM\"][\"stds\"]))"
   ]
  },
  {
   "cell_type": "code",
   "execution_count": 25,
   "id": "67951d0f",
   "metadata": {},
   "outputs": [
    {
     "data": {
      "image/png": "[encoded data removed]",
      "text/plain": [
       "<PIL.Image.Image image mode=RGB size=128x128 at 0x2B326BEB7D90>"
      ]
     },
     "execution_count": 25,
     "metadata": {},
     "output_type": "execute_result"
    }
   ],
   "source": [
    "ToPILImage()(in_invert_norm(i[0])[0])"
   ]
  },
  {
   "cell_type": "code",
   "execution_count": 26,
   "id": "31e99a46",
   "metadata": {},
   "outputs": [
    {
     "data": {
      "image/png": "[encoded data removed]",
      "text/plain": [
       "<PIL.Image.Image image mode=RGB size=128x128 at 0x2B326BEB75B0>"
      ]
     },
     "execution_count": 26,
     "metadata": {},
     "output_type": "execute_result"
    }
   ],
   "source": [
    "ToPILImage()(out_invert_norm(o[0])[0])"
   ]
  },
  {
   "cell_type": "markdown",
   "id": "08d5457e",
   "metadata": {},
   "source": [
    "## Initiating model"
   ]
  },
  {
   "cell_type": "code",
   "execution_count": 27,
   "id": "af2cfa8d",
   "metadata": {},
   "outputs": [
    {
     "data": {
      "text/plain": [
       "UNet(\n",
       "  (encoder): UNetEncoder(\n",
       "    (downs): ModuleList(\n",
       "      (0): DoubleConv2d(\n",
       "        (down): Sequential(\n",
       "          (0): Conv2d(3, 64, kernel_size=(3, 3), stride=(1, 1), padding=(1, 1))\n",
       "          (1): BatchNorm2d(64, eps=1e-05, momentum=0.1, affine=True, track_running_stats=True)\n",
       "          (2): LeakyReLU(negative_slope=0.01)\n",
       "          (3): Conv2d(64, 64, kernel_size=(3, 3), stride=(1, 1), padding=(1, 1))\n",
       "          (4): BatchNorm2d(64, eps=1e-05, momentum=0.1, affine=True, track_running_stats=True)\n",
       "          (5): LeakyReLU(negative_slope=0.01)\n",
       "        )\n",
       "      )\n",
       "      (1): DoubleConv2d(\n",
       "        (down): Sequential(\n",
       "          (0): Conv2d(64, 128, kernel_size=(3, 3), stride=(1, 1), padding=(1, 1))\n",
       "          (1): BatchNorm2d(128, eps=1e-05, momentum=0.1, affine=True, track_running_stats=True)\n",
       "          (2): LeakyReLU(negative_slope=0.01)\n",
       "          (3): Conv2d(128, 128, kernel_size=(3, 3), stride=(1, 1), padding=(1, 1))\n",
       "          (4): BatchNorm2d(128, eps=1e-05, momentum=0.1, affine=True, track_running_stats=True)\n",
       "          (5): LeakyReLU(negative_slope=0.01)\n",
       "        )\n",
       "      )\n",
       "      (2): DoubleConv2d(\n",
       "        (down): Sequential(\n",
       "          (0): Conv2d(128, 256, kernel_size=(3, 3), stride=(1, 1), padding=(1, 1))\n",
       "          (1): BatchNorm2d(256, eps=1e-05, momentum=0.1, affine=True, track_running_stats=True)\n",
       "          (2): LeakyReLU(negative_slope=0.01)\n",
       "          (3): Conv2d(256, 256, kernel_size=(3, 3), stride=(1, 1), padding=(1, 1))\n",
       "          (4): BatchNorm2d(256, eps=1e-05, momentum=0.1, affine=True, track_running_stats=True)\n",
       "          (5): LeakyReLU(negative_slope=0.01)\n",
       "        )\n",
       "      )\n",
       "      (3): DoubleConv2d(\n",
       "        (down): Sequential(\n",
       "          (0): Conv2d(256, 512, kernel_size=(3, 3), stride=(1, 1), padding=(1, 1))\n",
       "          (1): BatchNorm2d(512, eps=1e-05, momentum=0.1, affine=True, track_running_stats=True)\n",
       "          (2): LeakyReLU(negative_slope=0.01)\n",
       "          (3): Conv2d(512, 512, kernel_size=(3, 3), stride=(1, 1), padding=(1, 1))\n",
       "          (4): BatchNorm2d(512, eps=1e-05, momentum=0.1, affine=True, track_running_stats=True)\n",
       "          (5): LeakyReLU(negative_slope=0.01)\n",
       "        )\n",
       "      )\n",
       "    )\n",
       "  )\n",
       "  (decoder): UNetDecoder(\n",
       "    (ups): ModuleList(\n",
       "      (0): UpSample(\n",
       "        (up): ModuleList(\n",
       "          (0): ConvTranspose2d(512, 256, kernel_size=(2, 2), stride=(2, 2))\n",
       "          (1): DoubleConv2d(\n",
       "            (down): Sequential(\n",
       "              (0): Conv2d(512, 256, kernel_size=(3, 3), stride=(1, 1), padding=(1, 1))\n",
       "              (1): BatchNorm2d(256, eps=1e-05, momentum=0.1, affine=True, track_running_stats=True)\n",
       "              (2): LeakyReLU(negative_slope=0.01)\n",
       "              (3): Conv2d(256, 256, kernel_size=(3, 3), stride=(1, 1), padding=(1, 1))\n",
       "              (4): BatchNorm2d(256, eps=1e-05, momentum=0.1, affine=True, track_running_stats=True)\n",
       "              (5): LeakyReLU(negative_slope=0.01)\n",
       "            )\n",
       "          )\n",
       "        )\n",
       "      )\n",
       "      (1): UpSample(\n",
       "        (up): ModuleList(\n",
       "          (0): ConvTranspose2d(256, 128, kernel_size=(2, 2), stride=(2, 2))\n",
       "          (1): DoubleConv2d(\n",
       "            (down): Sequential(\n",
       "              (0): Conv2d(256, 128, kernel_size=(3, 3), stride=(1, 1), padding=(1, 1))\n",
       "              (1): BatchNorm2d(128, eps=1e-05, momentum=0.1, affine=True, track_running_stats=True)\n",
       "              (2): LeakyReLU(negative_slope=0.01)\n",
       "              (3): Conv2d(128, 128, kernel_size=(3, 3), stride=(1, 1), padding=(1, 1))\n",
       "              (4): BatchNorm2d(128, eps=1e-05, momentum=0.1, affine=True, track_running_stats=True)\n",
       "              (5): LeakyReLU(negative_slope=0.01)\n",
       "            )\n",
       "          )\n",
       "        )\n",
       "      )\n",
       "      (2): UpSample(\n",
       "        (up): ModuleList(\n",
       "          (0): ConvTranspose2d(128, 64, kernel_size=(2, 2), stride=(2, 2))\n",
       "          (1): DoubleConv2d(\n",
       "            (down): Sequential(\n",
       "              (0): Conv2d(128, 64, kernel_size=(3, 3), stride=(1, 1), padding=(1, 1))\n",
       "              (1): BatchNorm2d(64, eps=1e-05, momentum=0.1, affine=True, track_running_stats=True)\n",
       "              (2): LeakyReLU(negative_slope=0.01)\n",
       "              (3): Conv2d(64, 64, kernel_size=(3, 3), stride=(1, 1), padding=(1, 1))\n",
       "              (4): BatchNorm2d(64, eps=1e-05, momentum=0.1, affine=True, track_running_stats=True)\n",
       "              (5): LeakyReLU(negative_slope=0.01)\n",
       "            )\n",
       "          )\n",
       "        )\n",
       "      )\n",
       "    )\n",
       "  )\n",
       "  (out): Sequential(\n",
       "    (0): Conv2d(64, 3, kernel_size=(1, 1), stride=(1, 1))\n",
       "    (1): Tanh()\n",
       "  )\n",
       ")"
      ]
     },
     "execution_count": 27,
     "metadata": {},
     "output_type": "execute_result"
    }
   ],
   "source": [
    "logging.info(\"Initializing model\")\n",
    "model = UNet(\n",
    "    in_channels=HPARAMS[\"IN_CHANNELS\"], \n",
    "    out_channels=HPARAMS[\"OUT_CHANNELS\"],\n",
    "    norm=HPARAMS[\"NORM\"],\n",
    "    act=HPARAMS[\"ACTIVATION\"])\n",
    "model.to(HPARAMS[\"DEVICE\"])"
   ]
  },
  {
   "cell_type": "markdown",
   "id": "d50cb57e",
   "metadata": {},
   "source": [
    "## Loading pre-trained model if exits (using val loss to save best model)"
   ]
  },
  {
   "cell_type": "code",
   "execution_count": 28,
   "id": "9e421006",
   "metadata": {},
   "outputs": [],
   "source": [
    "if HPARAMS[\"PRE_TRAINED\"] and HPARAMS[\"MODEL_WEIGHTS\"] in os.listdir(HPARAMS[\"WEIGHTS_PATH\"]):\n",
    "    try:\n",
    "        model.load_state_dict(torch.load(os.path.join(HPARAMS[\"WEIGHTS_PATH\"], HPARAMS[\"MODEL_WEIGHTS\"])))\n",
    "        logging.info(\"Loaded pre-trained model weights\")\n",
    "    except Exception as e:\n",
    "        logging.info(f\"Error: {e}\")"
   ]
  },
  {
   "cell_type": "markdown",
   "id": "f2161a4a",
   "metadata": {},
   "source": [
    "## Initializing loss function, optimizer and learning-rate scheduler"
   ]
  },
  {
   "cell_type": "code",
   "execution_count": 29,
   "id": "57f92bca",
   "metadata": {},
   "outputs": [],
   "source": [
    "criterion = nn.L1Loss()\n",
    "optim = torch.optim.Adam(model.parameters(), lr=HPARAMS[\"LR\"], betas=HPARAMS[\"BETAS\"])\n",
    "lr_scheduler = torch.optim.lr_scheduler.StepLR(optimizer=optim, step_size=HPARAMS[\"LR_STEP_SIZE\"], gamma=HPARAMS[\"LR_GAMMA\"])"
   ]
  },
  {
   "cell_type": "markdown",
   "id": "09b4d8fc",
   "metadata": {},
   "source": [
    "## Loading pre-trained optimizer and learning-rate scheduler if exists"
   ]
  },
  {
   "cell_type": "code",
   "execution_count": 30,
   "id": "b9bdd74a",
   "metadata": {},
   "outputs": [],
   "source": [
    "if HPARAMS[\"PRE_TRAINED\"] and HPARAMS[\"OPTIM_WEIGHTS\"] in os.listdir(HPARAMS[\"WEIGHTS_PATH\"]):\n",
    "    try:\n",
    "        optim.load_state_dict(torch.load(os.path.join(HPARAMS[\"WEIGHTS_PATH\"], HPARAMS[\"OPTIM_WEIGHTS\"])))\n",
    "        logging.info(\"Loaded pre-trained optimizer\")\n",
    "    except Exception as e:\n",
    "        logging.info(f\"Error: {e}\")\n",
    "        \n",
    "        \n",
    "if HPARAMS[\"PRE_TRAINED\"] and HPARAMS[\"LR_SCH_WEIGHTS\"] in os.listdir(HPARAMS[\"WEIGHTS_PATH\"]):\n",
    "    try:\n",
    "        lr_scheduler.load_state_dict(torch.load(os.path.join(HPARAMS[\"WEIGHTS_PATH\"], HPARAMS[\"LR_SCH_WEIGHTS\"])))\n",
    "        logging.info(\"Loaded pre-trained lr_scheduler\")\n",
    "    except Exception as e:\n",
    "        logging.info(f\"Error: {e}\")"
   ]
  },
  {
   "cell_type": "markdown",
   "id": "176d4c40",
   "metadata": {},
   "source": [
    "## Defining metrics to be tracked while training"
   ]
  },
  {
   "cell_type": "code",
   "execution_count": 31,
   "id": "5b018473",
   "metadata": {},
   "outputs": [],
   "source": [
    "metrics = OrderedDict()\n",
    "metrics[\"train\"] = OrderedDict(step=[], epoch=[])\n",
    "metrics[\"val\"] = OrderedDict(step=[], epoch=[])\n",
    "metrics[\"min_val_loss\"] = 1e10"
   ]
  },
  {
   "cell_type": "markdown",
   "id": "098117b8",
   "metadata": {},
   "source": [
    "## Defining training and validation step"
   ]
  },
  {
   "cell_type": "code",
   "execution_count": 32,
   "id": "6cd8eae0",
   "metadata": {},
   "outputs": [],
   "source": [
    "def training_step(model, X: Tensor, Y: Tensor) -> float:\n",
    "    torch.set_grad_enabled(True)\n",
    "    model.train()\n",
    "    Y_hat = HPARAMS[\"SCALE_Y\"] * model(X)\n",
    "    loss = criterion(Y, Y_hat)\n",
    "    optim.zero_grad()\n",
    "    loss.backward()\n",
    "    optim.step()\n",
    "    lr_scheduler.step()\n",
    "    return loss.item()\n",
    "\n",
    "def validation_step(model, X: Tensor, Y: Tensor) -> Tuple[float, Tensor]:\n",
    "    torch.set_grad_enabled(False)\n",
    "    model.eval()\n",
    "    Y_hat = HPARAMS[\"SCALE_Y\"] * model(X)\n",
    "    loss = criterion(Y, Y_hat)\n",
    "    metrics[\"val\"][\"step\"].append(loss.item())\n",
    "    return loss.item(), Y_hat"
   ]
  },
  {
   "cell_type": "markdown",
   "id": "d22f03de",
   "metadata": {},
   "source": [
    "## Saving experiment configuration for future reference and experiment reproducibility"
   ]
  },
  {
   "cell_type": "code",
   "execution_count": 33,
   "id": "597a8a82",
   "metadata": {},
   "outputs": [
    {
     "name": "stdout",
     "output_type": "stream",
     "text": [
      "Successfully saved /home/mittal.nit/projects/super_image_resolution/assets/unet_l1loss_batchnorm/version_1/hparams\n"
     ]
    }
   ],
   "source": [
    "dump(os.path.join(HPARAMS[\"EXPERIMENT_VERSION_PATH\"], HPARAMS[\"HPARAMS\"]), HPARAMS)"
   ]
  },
  {
   "cell_type": "markdown",
   "id": "7e31b87c",
   "metadata": {},
   "source": [
    "## Training model"
   ]
  },
  {
   "cell_type": "code",
   "execution_count": 34,
   "id": "20ee132b",
   "metadata": {},
   "outputs": [
    {
     "name": "stderr",
     "output_type": "stream",
     "text": [
      "mode: train, epoch: 0, step: 24, step_loss:  0.127473:   0%|          | 0/50 [00:25<?, ?it/s]"
     ]
    },
    {
     "name": "stdout",
     "output_type": "stream",
     "text": [
      "Successfully saved /home/mittal.nit/projects/super_image_resolution/assets/unet_l1loss_batchnorm/version_1/metrics\n"
     ]
    },
    {
     "name": "stderr",
     "output_type": "stream",
     "text": [
      "mode: train, epoch: 0, step: 49, step_loss:  0.104397:   0%|          | 0/50 [00:54<?, ?it/s]"
     ]
    },
    {
     "name": "stdout",
     "output_type": "stream",
     "text": [
      "Successfully saved /home/mittal.nit/projects/super_image_resolution/assets/unet_l1loss_batchnorm/version_1/metrics\n"
     ]
    },
    {
     "name": "stderr",
     "output_type": "stream",
     "text": [
      "mode: train, epoch: 1, step: 74, step_loss:  0.138022:   2%|▏         | 1/50 [01:29<1:06:13, 81.08s/it]"
     ]
    },
    {
     "name": "stdout",
     "output_type": "stream",
     "text": [
      "Successfully saved /home/mittal.nit/projects/super_image_resolution/assets/unet_l1loss_batchnorm/version_1/metrics\n"
     ]
    },
    {
     "name": "stderr",
     "output_type": "stream",
     "text": [
      "mode: train, epoch: 1, step: 99, step_loss:  0.110087:   2%|▏         | 1/50 [01:48<1:06:13, 81.08s/it]"
     ]
    },
    {
     "name": "stdout",
     "output_type": "stream",
     "text": [
      "Successfully saved /home/mittal.nit/projects/super_image_resolution/assets/unet_l1loss_batchnorm/version_1/metrics\n"
     ]
    },
    {
     "name": "stderr",
     "output_type": "stream",
     "text": [
      "mode: train, epoch: 1, step: 124, step_loss:  0.094830:   2%|▏         | 1/50 [02:10<1:06:13, 81.08s/it]"
     ]
    },
    {
     "name": "stdout",
     "output_type": "stream",
     "text": [
      "Successfully saved /home/mittal.nit/projects/super_image_resolution/assets/unet_l1loss_batchnorm/version_1/metrics\n"
     ]
    },
    {
     "name": "stderr",
     "output_type": "stream",
     "text": [
      "mode: train, epoch: 2, step: 149, step_loss:  0.085952:   4%|▍         | 2/50 [02:43<59:45, 74.69s/it]  "
     ]
    },
    {
     "name": "stdout",
     "output_type": "stream",
     "text": [
      "Successfully saved /home/mittal.nit/projects/super_image_resolution/assets/unet_l1loss_batchnorm/version_1/metrics\n"
     ]
    },
    {
     "name": "stderr",
     "output_type": "stream",
     "text": [
      "mode: train, epoch: 2, step: 174, step_loss:  0.090345:   4%|▍         | 2/50 [03:04<59:45, 74.69s/it]"
     ]
    },
    {
     "name": "stdout",
     "output_type": "stream",
     "text": [
      "Successfully saved /home/mittal.nit/projects/super_image_resolution/assets/unet_l1loss_batchnorm/version_1/metrics\n"
     ]
    },
    {
     "name": "stderr",
     "output_type": "stream",
     "text": [
      "mode: train, epoch: 2, step: 199, step_loss:  0.119920:   4%|▍         | 2/50 [03:25<59:45, 74.69s/it]"
     ]
    },
    {
     "name": "stdout",
     "output_type": "stream",
     "text": [
      "Successfully saved /home/mittal.nit/projects/super_image_resolution/assets/unet_l1loss_batchnorm/version_1/metrics\n"
     ]
    },
    {
     "name": "stderr",
     "output_type": "stream",
     "text": [
      "mode: train, epoch: 3, step: 224, step_loss:  0.085955:   6%|▌         | 3/50 [03:58<57:26, 73.33s/it]"
     ]
    },
    {
     "name": "stdout",
     "output_type": "stream",
     "text": [
      "Successfully saved /home/mittal.nit/projects/super_image_resolution/assets/unet_l1loss_batchnorm/version_1/metrics\n"
     ]
    },
    {
     "name": "stderr",
     "output_type": "stream",
     "text": [
      "mode: train, epoch: 3, step: 249, step_loss:  0.120591:   6%|▌         | 3/50 [04:20<57:26, 73.33s/it]"
     ]
    },
    {
     "name": "stdout",
     "output_type": "stream",
     "text": [
      "Successfully saved /home/mittal.nit/projects/super_image_resolution/assets/unet_l1loss_batchnorm/version_1/metrics\n"
     ]
    },
    {
     "name": "stderr",
     "output_type": "stream",
     "text": [
      "mode: train, epoch: 4, step: 274, step_loss:  0.072627:   8%|▊         | 4/50 [04:53<53:11, 69.37s/it]"
     ]
    },
    {
     "name": "stdout",
     "output_type": "stream",
     "text": [
      "Successfully saved /home/mittal.nit/projects/super_image_resolution/assets/unet_l1loss_batchnorm/version_1/metrics\n"
     ]
    },
    {
     "name": "stderr",
     "output_type": "stream",
     "text": [
      "mode: train, epoch: 4, step: 299, step_loss:  0.071103:   8%|▊         | 4/50 [05:13<53:11, 69.37s/it]"
     ]
    },
    {
     "name": "stdout",
     "output_type": "stream",
     "text": [
      "Successfully saved /home/mittal.nit/projects/super_image_resolution/assets/unet_l1loss_batchnorm/version_1/metrics\n"
     ]
    },
    {
     "name": "stderr",
     "output_type": "stream",
     "text": [
      "mode: train, epoch: 4, step: 324, step_loss:  0.078365:   8%|▊         | 4/50 [05:34<53:11, 69.37s/it]"
     ]
    },
    {
     "name": "stdout",
     "output_type": "stream",
     "text": [
      "Successfully saved /home/mittal.nit/projects/super_image_resolution/assets/unet_l1loss_batchnorm/version_1/metrics\n"
     ]
    },
    {
     "name": "stderr",
     "output_type": "stream",
     "text": [
      "mode: train, epoch: 5, step: 349, step_loss:  0.124604:  10%|█         | 5/50 [06:06<51:53, 69.18s/it]"
     ]
    },
    {
     "name": "stdout",
     "output_type": "stream",
     "text": [
      "Successfully saved /home/mittal.nit/projects/super_image_resolution/assets/unet_l1loss_batchnorm/version_1/metrics\n"
     ]
    },
    {
     "name": "stderr",
     "output_type": "stream",
     "text": [
      "mode: train, epoch: 5, step: 374, step_loss:  0.066006:  10%|█         | 5/50 [06:28<51:53, 69.18s/it]"
     ]
    },
    {
     "name": "stdout",
     "output_type": "stream",
     "text": [
      "Successfully saved /home/mittal.nit/projects/super_image_resolution/assets/unet_l1loss_batchnorm/version_1/metrics\n"
     ]
    },
    {
     "name": "stderr",
     "output_type": "stream",
     "text": [
      "mode: train, epoch: 5, step: 399, step_loss:  0.102476:  10%|█         | 5/50 [06:48<51:53, 69.18s/it]"
     ]
    },
    {
     "name": "stdout",
     "output_type": "stream",
     "text": [
      "Successfully saved /home/mittal.nit/projects/super_image_resolution/assets/unet_l1loss_batchnorm/version_1/metrics\n"
     ]
    },
    {
     "name": "stderr",
     "output_type": "stream",
     "text": [
      "mode: train, epoch: 6, step: 424, step_loss:  0.094761:  12%|█▏        | 6/50 [07:21<51:00, 69.55s/it]"
     ]
    },
    {
     "name": "stdout",
     "output_type": "stream",
     "text": [
      "Successfully saved /home/mittal.nit/projects/super_image_resolution/assets/unet_l1loss_batchnorm/version_1/metrics\n"
     ]
    },
    {
     "name": "stderr",
     "output_type": "stream",
     "text": [
      "mode: train, epoch: 6, step: 449, step_loss:  0.093903:  12%|█▏        | 6/50 [07:42<51:00, 69.55s/it]"
     ]
    },
    {
     "name": "stdout",
     "output_type": "stream",
     "text": [
      "Successfully saved /home/mittal.nit/projects/super_image_resolution/assets/unet_l1loss_batchnorm/version_1/metrics\n"
     ]
    },
    {
     "name": "stderr",
     "output_type": "stream",
     "text": [
      "mode: train, epoch: 7, step: 474, step_loss:  0.101954:  14%|█▍        | 7/50 [08:15<48:15, 67.33s/it]"
     ]
    },
    {
     "name": "stdout",
     "output_type": "stream",
     "text": [
      "Successfully saved /home/mittal.nit/projects/super_image_resolution/assets/unet_l1loss_batchnorm/version_1/metrics\n"
     ]
    },
    {
     "name": "stderr",
     "output_type": "stream",
     "text": [
      "mode: train, epoch: 7, step: 499, step_loss:  0.081696:  14%|█▍        | 7/50 [08:35<48:15, 67.33s/it]"
     ]
    },
    {
     "name": "stdout",
     "output_type": "stream",
     "text": [
      "Successfully saved /home/mittal.nit/projects/super_image_resolution/assets/unet_l1loss_batchnorm/version_1/metrics\n"
     ]
    },
    {
     "name": "stderr",
     "output_type": "stream",
     "text": [
      "mode: train, epoch: 7, step: 524, step_loss:  0.083890:  14%|█▍        | 7/50 [08:56<48:15, 67.33s/it]"
     ]
    },
    {
     "name": "stdout",
     "output_type": "stream",
     "text": [
      "Successfully saved /home/mittal.nit/projects/super_image_resolution/assets/unet_l1loss_batchnorm/version_1/metrics\n"
     ]
    },
    {
     "name": "stderr",
     "output_type": "stream",
     "text": [
      "mode: train, epoch: 8, step: 549, step_loss:  0.064024:  16%|█▌        | 8/50 [09:29<47:54, 68.43s/it]"
     ]
    },
    {
     "name": "stdout",
     "output_type": "stream",
     "text": [
      "Successfully saved /home/mittal.nit/projects/super_image_resolution/assets/unet_l1loss_batchnorm/version_1/metrics\n"
     ]
    },
    {
     "name": "stderr",
     "output_type": "stream",
     "text": [
      "mode: train, epoch: 8, step: 574, step_loss:  0.075935:  16%|█▌        | 8/50 [09:49<47:54, 68.43s/it]"
     ]
    },
    {
     "name": "stdout",
     "output_type": "stream",
     "text": [
      "Successfully saved /home/mittal.nit/projects/super_image_resolution/assets/unet_l1loss_batchnorm/version_1/metrics\n"
     ]
    },
    {
     "name": "stderr",
     "output_type": "stream",
     "text": [
      "mode: train, epoch: 8, step: 599, step_loss:  0.066300:  16%|█▌        | 8/50 [10:10<47:54, 68.43s/it]"
     ]
    },
    {
     "name": "stdout",
     "output_type": "stream",
     "text": [
      "Successfully saved /home/mittal.nit/projects/super_image_resolution/assets/unet_l1loss_batchnorm/version_1/metrics\n"
     ]
    },
    {
     "name": "stderr",
     "output_type": "stream",
     "text": [
      "mode: train, epoch: 9, step: 624, step_loss:  0.078485:  18%|█▊        | 9/50 [10:42<46:43, 68.38s/it]"
     ]
    },
    {
     "name": "stdout",
     "output_type": "stream",
     "text": [
      "Successfully saved /home/mittal.nit/projects/super_image_resolution/assets/unet_l1loss_batchnorm/version_1/metrics\n"
     ]
    },
    {
     "name": "stderr",
     "output_type": "stream",
     "text": [
      "mode: train, epoch: 9, step: 649, step_loss:  0.078373:  18%|█▊        | 9/50 [11:04<46:43, 68.38s/it]"
     ]
    },
    {
     "name": "stdout",
     "output_type": "stream",
     "text": [
      "Successfully saved /home/mittal.nit/projects/super_image_resolution/assets/unet_l1loss_batchnorm/version_1/metrics\n"
     ]
    },
    {
     "name": "stderr",
     "output_type": "stream",
     "text": [
      "mode: train, epoch: 10, step: 674, step_loss:  0.089695:  20%|██        | 10/50 [11:37<44:42, 67.07s/it]"
     ]
    },
    {
     "name": "stdout",
     "output_type": "stream",
     "text": [
      "Successfully saved /home/mittal.nit/projects/super_image_resolution/assets/unet_l1loss_batchnorm/version_1/metrics\n"
     ]
    },
    {
     "name": "stderr",
     "output_type": "stream",
     "text": [
      "mode: train, epoch: 10, step: 699, step_loss:  0.088145:  20%|██        | 10/50 [11:58<44:42, 67.07s/it]"
     ]
    },
    {
     "name": "stdout",
     "output_type": "stream",
     "text": [
      "Successfully saved /home/mittal.nit/projects/super_image_resolution/assets/unet_l1loss_batchnorm/version_1/metrics\n"
     ]
    },
    {
     "name": "stderr",
     "output_type": "stream",
     "text": [
      "mode: train, epoch: 10, step: 724, step_loss:  0.065937:  20%|██        | 10/50 [12:18<44:42, 67.07s/it]"
     ]
    },
    {
     "name": "stdout",
     "output_type": "stream",
     "text": [
      "Successfully saved /home/mittal.nit/projects/super_image_resolution/assets/unet_l1loss_batchnorm/version_1/metrics\n"
     ]
    },
    {
     "name": "stderr",
     "output_type": "stream",
     "text": [
      "mode: train, epoch: 11, step: 749, step_loss:  0.077892:  22%|██▏       | 11/50 [12:51<44:07, 67.88s/it]"
     ]
    },
    {
     "name": "stdout",
     "output_type": "stream",
     "text": [
      "Successfully saved /home/mittal.nit/projects/super_image_resolution/assets/unet_l1loss_batchnorm/version_1/metrics\n"
     ]
    },
    {
     "name": "stderr",
     "output_type": "stream",
     "text": [
      "mode: train, epoch: 11, step: 774, step_loss:  0.054180:  22%|██▏       | 11/50 [13:13<44:07, 67.88s/it]"
     ]
    },
    {
     "name": "stdout",
     "output_type": "stream",
     "text": [
      "Successfully saved /home/mittal.nit/projects/super_image_resolution/assets/unet_l1loss_batchnorm/version_1/metrics\n"
     ]
    },
    {
     "name": "stderr",
     "output_type": "stream",
     "text": [
      "mode: train, epoch: 11, step: 799, step_loss:  0.055785:  22%|██▏       | 11/50 [13:34<44:07, 67.88s/it]"
     ]
    },
    {
     "name": "stdout",
     "output_type": "stream",
     "text": [
      "Successfully saved /home/mittal.nit/projects/super_image_resolution/assets/unet_l1loss_batchnorm/version_1/metrics\n"
     ]
    },
    {
     "name": "stderr",
     "output_type": "stream",
     "text": [
      "mode: train, epoch: 12, step: 824, step_loss:  0.062411:  24%|██▍       | 12/50 [14:07<43:44, 69.05s/it]"
     ]
    },
    {
     "name": "stdout",
     "output_type": "stream",
     "text": [
      "Successfully saved /home/mittal.nit/projects/super_image_resolution/assets/unet_l1loss_batchnorm/version_1/metrics\n"
     ]
    },
    {
     "name": "stderr",
     "output_type": "stream",
     "text": [
      "mode: train, epoch: 12, step: 849, step_loss:  0.078618:  24%|██▍       | 12/50 [14:27<43:44, 69.05s/it]"
     ]
    },
    {
     "name": "stdout",
     "output_type": "stream",
     "text": [
      "Successfully saved /home/mittal.nit/projects/super_image_resolution/assets/unet_l1loss_batchnorm/version_1/metrics\n"
     ]
    },
    {
     "name": "stderr",
     "output_type": "stream",
     "text": [
      "mode: train, epoch: 13, step: 874, step_loss:  0.086193:  26%|██▌       | 13/50 [15:01<41:23, 67.13s/it]"
     ]
    },
    {
     "name": "stdout",
     "output_type": "stream",
     "text": [
      "Successfully saved /home/mittal.nit/projects/super_image_resolution/assets/unet_l1loss_batchnorm/version_1/metrics\n"
     ]
    },
    {
     "name": "stderr",
     "output_type": "stream",
     "text": [
      "mode: train, epoch: 13, step: 899, step_loss:  0.058713:  26%|██▌       | 13/50 [15:22<41:23, 67.13s/it]"
     ]
    },
    {
     "name": "stdout",
     "output_type": "stream",
     "text": [
      "Successfully saved /home/mittal.nit/projects/super_image_resolution/assets/unet_l1loss_batchnorm/version_1/metrics\n"
     ]
    },
    {
     "name": "stderr",
     "output_type": "stream",
     "text": [
      "mode: train, epoch: 13, step: 924, step_loss:  0.063045:  26%|██▌       | 13/50 [15:44<41:23, 67.13s/it]"
     ]
    },
    {
     "name": "stdout",
     "output_type": "stream",
     "text": [
      "Successfully saved /home/mittal.nit/projects/super_image_resolution/assets/unet_l1loss_batchnorm/version_1/metrics\n"
     ]
    },
    {
     "name": "stderr",
     "output_type": "stream",
     "text": [
      "mode: train, epoch: 14, step: 949, step_loss:  0.062015:  28%|██▊       | 14/50 [16:16<40:55, 68.22s/it]"
     ]
    },
    {
     "name": "stdout",
     "output_type": "stream",
     "text": [
      "Successfully saved /home/mittal.nit/projects/super_image_resolution/assets/unet_l1loss_batchnorm/version_1/metrics\n"
     ]
    },
    {
     "name": "stderr",
     "output_type": "stream",
     "text": [
      "mode: train, epoch: 14, step: 974, step_loss:  0.060206:  28%|██▊       | 14/50 [16:36<40:55, 68.22s/it]"
     ]
    },
    {
     "name": "stdout",
     "output_type": "stream",
     "text": [
      "Successfully saved /home/mittal.nit/projects/super_image_resolution/assets/unet_l1loss_batchnorm/version_1/metrics\n"
     ]
    },
    {
     "name": "stderr",
     "output_type": "stream",
     "text": [
      "mode: train, epoch: 14, step: 999, step_loss:  0.085068:  28%|██▊       | 14/50 [16:57<40:55, 68.22s/it]"
     ]
    },
    {
     "name": "stdout",
     "output_type": "stream",
     "text": [
      "Successfully saved /home/mittal.nit/projects/super_image_resolution/assets/unet_l1loss_batchnorm/version_1/metrics\n"
     ]
    },
    {
     "name": "stderr",
     "output_type": "stream",
     "text": [
      "mode: train, epoch: 15, step: 1024, step_loss:  0.076140:  30%|███       | 15/50 [17:30<40:03, 68.68s/it]"
     ]
    },
    {
     "name": "stdout",
     "output_type": "stream",
     "text": [
      "Successfully saved /home/mittal.nit/projects/super_image_resolution/assets/unet_l1loss_batchnorm/version_1/metrics\n"
     ]
    },
    {
     "name": "stderr",
     "output_type": "stream",
     "text": [
      "mode: train, epoch: 15, step: 1049, step_loss:  0.083910:  30%|███       | 15/50 [17:50<40:03, 68.68s/it]"
     ]
    },
    {
     "name": "stdout",
     "output_type": "stream",
     "text": [
      "Successfully saved /home/mittal.nit/projects/super_image_resolution/assets/unet_l1loss_batchnorm/version_1/metrics\n"
     ]
    },
    {
     "name": "stderr",
     "output_type": "stream",
     "text": [
      "mode: train, epoch: 16, step: 1074, step_loss:  0.066791:  32%|███▏      | 16/50 [18:24<37:57, 66.99s/it]"
     ]
    },
    {
     "name": "stdout",
     "output_type": "stream",
     "text": [
      "Successfully saved /home/mittal.nit/projects/super_image_resolution/assets/unet_l1loss_batchnorm/version_1/metrics\n"
     ]
    },
    {
     "name": "stderr",
     "output_type": "stream",
     "text": [
      "mode: train, epoch: 16, step: 1099, step_loss:  0.085510:  32%|███▏      | 16/50 [18:45<37:57, 66.99s/it]"
     ]
    },
    {
     "name": "stdout",
     "output_type": "stream",
     "text": [
      "Successfully saved /home/mittal.nit/projects/super_image_resolution/assets/unet_l1loss_batchnorm/version_1/metrics\n"
     ]
    },
    {
     "name": "stderr",
     "output_type": "stream",
     "text": [
      "mode: train, epoch: 16, step: 1124, step_loss:  0.158451:  32%|███▏      | 16/50 [19:06<37:57, 66.99s/it]"
     ]
    },
    {
     "name": "stdout",
     "output_type": "stream",
     "text": [
      "Successfully saved /home/mittal.nit/projects/super_image_resolution/assets/unet_l1loss_batchnorm/version_1/metrics\n"
     ]
    },
    {
     "name": "stderr",
     "output_type": "stream",
     "text": [
      "mode: train, epoch: 17, step: 1149, step_loss:  0.062619:  34%|███▍      | 17/50 [19:39<37:34, 68.31s/it]"
     ]
    },
    {
     "name": "stdout",
     "output_type": "stream",
     "text": [
      "Successfully saved /home/mittal.nit/projects/super_image_resolution/assets/unet_l1loss_batchnorm/version_1/metrics\n"
     ]
    },
    {
     "name": "stderr",
     "output_type": "stream",
     "text": [
      "mode: train, epoch: 17, step: 1174, step_loss:  0.076286:  34%|███▍      | 17/50 [20:00<37:34, 68.31s/it]"
     ]
    },
    {
     "name": "stdout",
     "output_type": "stream",
     "text": [
      "Successfully saved /home/mittal.nit/projects/super_image_resolution/assets/unet_l1loss_batchnorm/version_1/metrics\n"
     ]
    },
    {
     "name": "stderr",
     "output_type": "stream",
     "text": [
      "mode: train, epoch: 17, step: 1199, step_loss:  0.066348:  34%|███▍      | 17/50 [20:20<37:34, 68.31s/it]"
     ]
    },
    {
     "name": "stdout",
     "output_type": "stream",
     "text": [
      "Successfully saved /home/mittal.nit/projects/super_image_resolution/assets/unet_l1loss_batchnorm/version_1/metrics\n"
     ]
    },
    {
     "name": "stderr",
     "output_type": "stream",
     "text": [
      "mode: train, epoch: 18, step: 1224, step_loss:  0.075492:  36%|███▌      | 18/50 [20:54<36:39, 68.74s/it]"
     ]
    },
    {
     "name": "stdout",
     "output_type": "stream",
     "text": [
      "Successfully saved /home/mittal.nit/projects/super_image_resolution/assets/unet_l1loss_batchnorm/version_1/metrics\n"
     ]
    },
    {
     "name": "stderr",
     "output_type": "stream",
     "text": [
      "mode: train, epoch: 18, step: 1249, step_loss:  0.085550:  36%|███▌      | 18/50 [21:15<36:39, 68.74s/it]"
     ]
    },
    {
     "name": "stdout",
     "output_type": "stream",
     "text": [
      "Successfully saved /home/mittal.nit/projects/super_image_resolution/assets/unet_l1loss_batchnorm/version_1/metrics\n"
     ]
    },
    {
     "name": "stderr",
     "output_type": "stream",
     "text": [
      "mode: train, epoch: 19, step: 1274, step_loss:  0.055450:  38%|███▊      | 19/50 [21:47<34:35, 66.96s/it]"
     ]
    },
    {
     "name": "stdout",
     "output_type": "stream",
     "text": [
      "Successfully saved /home/mittal.nit/projects/super_image_resolution/assets/unet_l1loss_batchnorm/version_1/metrics\n"
     ]
    },
    {
     "name": "stderr",
     "output_type": "stream",
     "text": [
      "mode: train, epoch: 19, step: 1299, step_loss:  0.069435:  38%|███▊      | 19/50 [22:09<34:35, 66.96s/it]"
     ]
    },
    {
     "name": "stdout",
     "output_type": "stream",
     "text": [
      "Successfully saved /home/mittal.nit/projects/super_image_resolution/assets/unet_l1loss_batchnorm/version_1/metrics\n"
     ]
    },
    {
     "name": "stderr",
     "output_type": "stream",
     "text": [
      "mode: train, epoch: 19, step: 1324, step_loss:  0.097401:  38%|███▊      | 19/50 [22:29<34:35, 66.96s/it]"
     ]
    },
    {
     "name": "stdout",
     "output_type": "stream",
     "text": [
      "Successfully saved /home/mittal.nit/projects/super_image_resolution/assets/unet_l1loss_batchnorm/version_1/metrics\n"
     ]
    },
    {
     "name": "stderr",
     "output_type": "stream",
     "text": [
      "mode: train, epoch: 20, step: 1349, step_loss:  0.064978:  40%|████      | 20/50 [23:02<34:05, 68.20s/it]"
     ]
    },
    {
     "name": "stdout",
     "output_type": "stream",
     "text": [
      "Successfully saved /home/mittal.nit/projects/super_image_resolution/assets/unet_l1loss_batchnorm/version_1/metrics\n"
     ]
    },
    {
     "name": "stderr",
     "output_type": "stream",
     "text": [
      "mode: train, epoch: 20, step: 1374, step_loss:  0.063358:  40%|████      | 20/50 [23:24<34:05, 68.20s/it]"
     ]
    },
    {
     "name": "stdout",
     "output_type": "stream",
     "text": [
      "Successfully saved /home/mittal.nit/projects/super_image_resolution/assets/unet_l1loss_batchnorm/version_1/metrics\n"
     ]
    },
    {
     "name": "stderr",
     "output_type": "stream",
     "text": [
      "mode: train, epoch: 20, step: 1399, step_loss:  0.064874:  40%|████      | 20/50 [23:44<34:05, 68.20s/it]"
     ]
    },
    {
     "name": "stdout",
     "output_type": "stream",
     "text": [
      "Successfully saved /home/mittal.nit/projects/super_image_resolution/assets/unet_l1loss_batchnorm/version_1/metrics\n"
     ]
    },
    {
     "name": "stderr",
     "output_type": "stream",
     "text": [
      "mode: train, epoch: 21, step: 1424, step_loss:  0.059234:  42%|████▏     | 21/50 [24:17<33:09, 68.61s/it]"
     ]
    },
    {
     "name": "stdout",
     "output_type": "stream",
     "text": [
      "Successfully saved /home/mittal.nit/projects/super_image_resolution/assets/unet_l1loss_batchnorm/version_1/metrics\n"
     ]
    },
    {
     "name": "stderr",
     "output_type": "stream",
     "text": [
      "mode: train, epoch: 21, step: 1449, step_loss:  0.052343:  42%|████▏     | 21/50 [24:38<33:09, 68.61s/it]"
     ]
    },
    {
     "name": "stdout",
     "output_type": "stream",
     "text": [
      "Successfully saved /home/mittal.nit/projects/super_image_resolution/assets/unet_l1loss_batchnorm/version_1/metrics\n"
     ]
    },
    {
     "name": "stderr",
     "output_type": "stream",
     "text": [
      "mode: train, epoch: 22, step: 1474, step_loss:  0.055132:  44%|████▍     | 22/50 [25:17<32:09, 68.90s/it]"
     ]
    },
    {
     "name": "stdout",
     "output_type": "stream",
     "text": [
      "Successfully saved /home/mittal.nit/projects/super_image_resolution/assets/unet_l1loss_batchnorm/version_1/metrics\n"
     ]
    },
    {
     "name": "stderr",
     "output_type": "stream",
     "text": [
      "mode: train, epoch: 22, step: 1499, step_loss:  0.061639:  44%|████▍     | 22/50 [25:38<32:09, 68.90s/it]"
     ]
    },
    {
     "name": "stdout",
     "output_type": "stream",
     "text": [
      "Successfully saved /home/mittal.nit/projects/super_image_resolution/assets/unet_l1loss_batchnorm/version_1/metrics\n"
     ]
    },
    {
     "name": "stderr",
     "output_type": "stream",
     "text": [
      "mode: train, epoch: 22, step: 1524, step_loss:  0.065300:  44%|████▍     | 22/50 [25:59<32:09, 68.90s/it]"
     ]
    },
    {
     "name": "stdout",
     "output_type": "stream",
     "text": [
      "Successfully saved /home/mittal.nit/projects/super_image_resolution/assets/unet_l1loss_batchnorm/version_1/metrics\n"
     ]
    },
    {
     "name": "stderr",
     "output_type": "stream",
     "text": [
      "mode: train, epoch: 23, step: 1549, step_loss:  0.129554:  46%|████▌     | 23/50 [26:33<31:24, 69.80s/it]"
     ]
    },
    {
     "name": "stdout",
     "output_type": "stream",
     "text": [
      "Successfully saved /home/mittal.nit/projects/super_image_resolution/assets/unet_l1loss_batchnorm/version_1/metrics\n"
     ]
    },
    {
     "name": "stderr",
     "output_type": "stream",
     "text": [
      "mode: train, epoch: 23, step: 1574, step_loss:  0.053636:  46%|████▌     | 23/50 [26:55<31:24, 69.80s/it]"
     ]
    },
    {
     "name": "stdout",
     "output_type": "stream",
     "text": [
      "Successfully saved /home/mittal.nit/projects/super_image_resolution/assets/unet_l1loss_batchnorm/version_1/metrics\n"
     ]
    },
    {
     "name": "stderr",
     "output_type": "stream",
     "text": [
      "mode: train, epoch: 23, step: 1599, step_loss:  0.054495:  46%|████▌     | 23/50 [27:16<31:24, 69.80s/it]"
     ]
    },
    {
     "name": "stdout",
     "output_type": "stream",
     "text": [
      "Successfully saved /home/mittal.nit/projects/super_image_resolution/assets/unet_l1loss_batchnorm/version_1/metrics\n"
     ]
    },
    {
     "name": "stderr",
     "output_type": "stream",
     "text": [
      "mode: train, epoch: 24, step: 1624, step_loss:  0.076525:  48%|████▊     | 24/50 [27:49<30:30, 70.41s/it]"
     ]
    },
    {
     "name": "stdout",
     "output_type": "stream",
     "text": [
      "Successfully saved /home/mittal.nit/projects/super_image_resolution/assets/unet_l1loss_batchnorm/version_1/metrics\n"
     ]
    },
    {
     "name": "stderr",
     "output_type": "stream",
     "text": [
      "mode: train, epoch: 24, step: 1649, step_loss:  0.072473:  48%|████▊     | 24/50 [28:11<30:30, 70.41s/it]"
     ]
    },
    {
     "name": "stdout",
     "output_type": "stream",
     "text": [
      "Successfully saved /home/mittal.nit/projects/super_image_resolution/assets/unet_l1loss_batchnorm/version_1/metrics\n"
     ]
    },
    {
     "name": "stderr",
     "output_type": "stream",
     "text": [
      "mode: train, epoch: 24, epoch_loss:  0.068018:  48%|████▊     | 24/50 [28:39<30:30, 70.41s/it]           "
     ]
    },
    {
     "name": "stdout",
     "output_type": "stream",
     "text": [
      "Successfully saved /home/mittal.nit/projects/super_image_resolution/assets/unet_l1loss_batchnorm/version_1/metrics\n"
     ]
    },
    {
     "name": "stderr",
     "output_type": "stream",
     "text": [
      "mode: train, epoch: 25, step: 1699, step_loss:  0.049866:  50%|█████     | 25/50 [29:05<29:26, 70.67s/it]"
     ]
    },
    {
     "name": "stdout",
     "output_type": "stream",
     "text": [
      "Successfully saved /home/mittal.nit/projects/super_image_resolution/assets/unet_l1loss_batchnorm/version_1/metrics\n"
     ]
    },
    {
     "name": "stderr",
     "output_type": "stream",
     "text": [
      "mode: train, epoch: 25, step: 1724, step_loss:  0.106531:  50%|█████     | 25/50 [29:27<29:26, 70.67s/it]"
     ]
    },
    {
     "name": "stdout",
     "output_type": "stream",
     "text": [
      "Successfully saved /home/mittal.nit/projects/super_image_resolution/assets/unet_l1loss_batchnorm/version_1/metrics\n"
     ]
    },
    {
     "name": "stderr",
     "output_type": "stream",
     "text": [
      "mode: train, epoch: 26, step: 1749, step_loss:  0.052184:  52%|█████▏    | 26/50 [30:01<27:32, 68.84s/it]"
     ]
    },
    {
     "name": "stdout",
     "output_type": "stream",
     "text": [
      "Successfully saved /home/mittal.nit/projects/super_image_resolution/assets/unet_l1loss_batchnorm/version_1/metrics\n"
     ]
    },
    {
     "name": "stderr",
     "output_type": "stream",
     "text": [
      "mode: train, epoch: 26, step: 1774, step_loss:  0.091930:  52%|█████▏    | 26/50 [30:22<27:32, 68.84s/it]"
     ]
    },
    {
     "name": "stdout",
     "output_type": "stream",
     "text": [
      "Successfully saved /home/mittal.nit/projects/super_image_resolution/assets/unet_l1loss_batchnorm/version_1/metrics\n"
     ]
    },
    {
     "name": "stderr",
     "output_type": "stream",
     "text": [
      "mode: train, epoch: 26, step: 1799, step_loss:  0.071452:  52%|█████▏    | 26/50 [30:41<27:32, 68.84s/it]"
     ]
    },
    {
     "name": "stdout",
     "output_type": "stream",
     "text": [
      "Successfully saved /home/mittal.nit/projects/super_image_resolution/assets/unet_l1loss_batchnorm/version_1/metrics\n"
     ]
    },
    {
     "name": "stderr",
     "output_type": "stream",
     "text": [
      "mode: train, epoch: 27, step: 1824, step_loss:  0.086071:  54%|█████▍    | 27/50 [31:15<26:35, 69.37s/it]"
     ]
    },
    {
     "name": "stdout",
     "output_type": "stream",
     "text": [
      "Successfully saved /home/mittal.nit/projects/super_image_resolution/assets/unet_l1loss_batchnorm/version_1/metrics\n"
     ]
    },
    {
     "name": "stderr",
     "output_type": "stream",
     "text": [
      "mode: train, epoch: 27, step: 1849, step_loss:  0.055732:  54%|█████▍    | 27/50 [31:36<26:35, 69.37s/it]"
     ]
    },
    {
     "name": "stdout",
     "output_type": "stream",
     "text": [
      "Successfully saved /home/mittal.nit/projects/super_image_resolution/assets/unet_l1loss_batchnorm/version_1/metrics\n"
     ]
    },
    {
     "name": "stderr",
     "output_type": "stream",
     "text": [
      "mode: train, epoch: 27, step: 1874, step_loss:  0.059806:  54%|█████▍    | 27/50 [31:57<26:35, 69.37s/it]"
     ]
    },
    {
     "name": "stdout",
     "output_type": "stream",
     "text": [
      "Successfully saved /home/mittal.nit/projects/super_image_resolution/assets/unet_l1loss_batchnorm/version_1/metrics\n"
     ]
    },
    {
     "name": "stderr",
     "output_type": "stream",
     "text": [
      "mode: train, epoch: 28, step: 1899, step_loss:  0.046717:  56%|█████▌    | 28/50 [32:31<25:36, 69.86s/it]"
     ]
    },
    {
     "name": "stdout",
     "output_type": "stream",
     "text": [
      "Successfully saved /home/mittal.nit/projects/super_image_resolution/assets/unet_l1loss_batchnorm/version_1/metrics\n"
     ]
    },
    {
     "name": "stderr",
     "output_type": "stream",
     "text": [
      "mode: train, epoch: 28, step: 1924, step_loss:  0.087284:  56%|█████▌    | 28/50 [32:52<25:36, 69.86s/it]"
     ]
    },
    {
     "name": "stdout",
     "output_type": "stream",
     "text": [
      "Successfully saved /home/mittal.nit/projects/super_image_resolution/assets/unet_l1loss_batchnorm/version_1/metrics\n"
     ]
    },
    {
     "name": "stderr",
     "output_type": "stream",
     "text": [
      "mode: train, epoch: 29, step: 1949, step_loss:  0.059799:  58%|█████▊    | 29/50 [33:26<23:50, 68.10s/it]"
     ]
    },
    {
     "name": "stdout",
     "output_type": "stream",
     "text": [
      "Successfully saved /home/mittal.nit/projects/super_image_resolution/assets/unet_l1loss_batchnorm/version_1/metrics\n"
     ]
    },
    {
     "name": "stderr",
     "output_type": "stream",
     "text": [
      "mode: train, epoch: 29, step: 1974, step_loss:  0.063990:  58%|█████▊    | 29/50 [33:48<23:50, 68.10s/it]"
     ]
    },
    {
     "name": "stdout",
     "output_type": "stream",
     "text": [
      "Successfully saved /home/mittal.nit/projects/super_image_resolution/assets/unet_l1loss_batchnorm/version_1/metrics\n"
     ]
    },
    {
     "name": "stderr",
     "output_type": "stream",
     "text": [
      "mode: train, epoch: 29, step: 1999, step_loss:  0.055445:  58%|█████▊    | 29/50 [34:10<23:50, 68.10s/it]"
     ]
    },
    {
     "name": "stdout",
     "output_type": "stream",
     "text": [
      "Successfully saved /home/mittal.nit/projects/super_image_resolution/assets/unet_l1loss_batchnorm/version_1/metrics\n"
     ]
    },
    {
     "name": "stderr",
     "output_type": "stream",
     "text": [
      "mode: train, epoch: 30, step: 2024, step_loss:  0.088263:  60%|██████    | 30/50 [34:45<23:22, 70.11s/it]"
     ]
    },
    {
     "name": "stdout",
     "output_type": "stream",
     "text": [
      "Successfully saved /home/mittal.nit/projects/super_image_resolution/assets/unet_l1loss_batchnorm/version_1/metrics\n"
     ]
    },
    {
     "name": "stderr",
     "output_type": "stream",
     "text": [
      "mode: train, epoch: 30, step: 2049, step_loss:  0.104689:  60%|██████    | 30/50 [35:06<23:22, 70.11s/it]"
     ]
    },
    {
     "name": "stdout",
     "output_type": "stream",
     "text": [
      "Successfully saved /home/mittal.nit/projects/super_image_resolution/assets/unet_l1loss_batchnorm/version_1/metrics\n"
     ]
    },
    {
     "name": "stderr",
     "output_type": "stream",
     "text": [
      "mode: train, epoch: 30, step: 2074, step_loss:  0.055000:  60%|██████    | 30/50 [35:25<23:22, 70.11s/it]"
     ]
    },
    {
     "name": "stdout",
     "output_type": "stream",
     "text": [
      "Successfully saved /home/mittal.nit/projects/super_image_resolution/assets/unet_l1loss_batchnorm/version_1/metrics\n"
     ]
    },
    {
     "name": "stderr",
     "output_type": "stream",
     "text": [
      "mode: train, epoch: 31, step: 2099, step_loss:  0.053638:  62%|██████▏   | 31/50 [36:01<22:19, 70.50s/it]"
     ]
    },
    {
     "name": "stdout",
     "output_type": "stream",
     "text": [
      "Successfully saved /home/mittal.nit/projects/super_image_resolution/assets/unet_l1loss_batchnorm/version_1/metrics\n"
     ]
    },
    {
     "name": "stderr",
     "output_type": "stream",
     "text": [
      "mode: train, epoch: 31, step: 2124, step_loss:  0.060376:  62%|██████▏   | 31/50 [36:21<22:19, 70.50s/it]"
     ]
    },
    {
     "name": "stdout",
     "output_type": "stream",
     "text": [
      "Successfully saved /home/mittal.nit/projects/super_image_resolution/assets/unet_l1loss_batchnorm/version_1/metrics\n"
     ]
    },
    {
     "name": "stderr",
     "output_type": "stream",
     "text": [
      "mode: train, epoch: 32, step: 2149, step_loss:  0.055903:  64%|██████▍   | 32/50 [36:54<20:27, 68.17s/it]"
     ]
    },
    {
     "name": "stdout",
     "output_type": "stream",
     "text": [
      "Successfully saved /home/mittal.nit/projects/super_image_resolution/assets/unet_l1loss_batchnorm/version_1/metrics\n"
     ]
    },
    {
     "name": "stderr",
     "output_type": "stream",
     "text": [
      "mode: train, epoch: 32, step: 2174, step_loss:  0.050757:  64%|██████▍   | 32/50 [37:16<20:27, 68.17s/it]"
     ]
    },
    {
     "name": "stdout",
     "output_type": "stream",
     "text": [
      "Successfully saved /home/mittal.nit/projects/super_image_resolution/assets/unet_l1loss_batchnorm/version_1/metrics\n"
     ]
    },
    {
     "name": "stderr",
     "output_type": "stream",
     "text": [
      "mode: train, epoch: 32, step: 2199, step_loss:  0.055697:  64%|██████▍   | 32/50 [37:38<20:27, 68.17s/it]"
     ]
    },
    {
     "name": "stdout",
     "output_type": "stream",
     "text": [
      "Successfully saved /home/mittal.nit/projects/super_image_resolution/assets/unet_l1loss_batchnorm/version_1/metrics\n"
     ]
    },
    {
     "name": "stderr",
     "output_type": "stream",
     "text": [
      "mode: train, epoch: 33, step: 2224, step_loss:  0.096341:  66%|██████▌   | 33/50 [38:12<19:46, 69.77s/it]"
     ]
    },
    {
     "name": "stdout",
     "output_type": "stream",
     "text": [
      "Successfully saved /home/mittal.nit/projects/super_image_resolution/assets/unet_l1loss_batchnorm/version_1/metrics\n"
     ]
    },
    {
     "name": "stderr",
     "output_type": "stream",
     "text": [
      "mode: train, epoch: 33, step: 2249, step_loss:  0.067305:  66%|██████▌   | 33/50 [38:33<19:46, 69.77s/it]"
     ]
    },
    {
     "name": "stdout",
     "output_type": "stream",
     "text": [
      "Successfully saved /home/mittal.nit/projects/super_image_resolution/assets/unet_l1loss_batchnorm/version_1/metrics\n"
     ]
    },
    {
     "name": "stderr",
     "output_type": "stream",
     "text": [
      "mode: train, epoch: 33, step: 2274, step_loss:  0.059270:  66%|██████▌   | 33/50 [38:54<19:46, 69.77s/it]"
     ]
    },
    {
     "name": "stdout",
     "output_type": "stream",
     "text": [
      "Successfully saved /home/mittal.nit/projects/super_image_resolution/assets/unet_l1loss_batchnorm/version_1/metrics\n"
     ]
    },
    {
     "name": "stderr",
     "output_type": "stream",
     "text": [
      "mode: train, epoch: 34, step: 2299, step_loss:  0.046108:  68%|██████▊   | 34/50 [39:28<18:51, 70.74s/it]"
     ]
    },
    {
     "name": "stdout",
     "output_type": "stream",
     "text": [
      "Successfully saved /home/mittal.nit/projects/super_image_resolution/assets/unet_l1loss_batchnorm/version_1/metrics\n"
     ]
    },
    {
     "name": "stderr",
     "output_type": "stream",
     "text": [
      "mode: train, epoch: 34, step: 2324, step_loss:  0.049036:  68%|██████▊   | 34/50 [39:50<18:51, 70.74s/it]"
     ]
    },
    {
     "name": "stdout",
     "output_type": "stream",
     "text": [
      "Successfully saved /home/mittal.nit/projects/super_image_resolution/assets/unet_l1loss_batchnorm/version_1/metrics\n"
     ]
    },
    {
     "name": "stderr",
     "output_type": "stream",
     "text": [
      "mode: train, epoch: 35, step: 2349, step_loss:  0.057276:  70%|███████   | 35/50 [40:25<17:15, 69.01s/it]"
     ]
    },
    {
     "name": "stdout",
     "output_type": "stream",
     "text": [
      "Successfully saved /home/mittal.nit/projects/super_image_resolution/assets/unet_l1loss_batchnorm/version_1/metrics\n"
     ]
    },
    {
     "name": "stderr",
     "output_type": "stream",
     "text": [
      "mode: train, epoch: 35, step: 2374, step_loss:  0.050089:  70%|███████   | 35/50 [40:45<17:15, 69.01s/it]"
     ]
    },
    {
     "name": "stdout",
     "output_type": "stream",
     "text": [
      "Successfully saved /home/mittal.nit/projects/super_image_resolution/assets/unet_l1loss_batchnorm/version_1/metrics\n"
     ]
    },
    {
     "name": "stderr",
     "output_type": "stream",
     "text": [
      "mode: train, epoch: 35, step: 2399, step_loss:  0.049086:  70%|███████   | 35/50 [41:06<17:15, 69.01s/it]"
     ]
    },
    {
     "name": "stdout",
     "output_type": "stream",
     "text": [
      "Successfully saved /home/mittal.nit/projects/super_image_resolution/assets/unet_l1loss_batchnorm/version_1/metrics\n"
     ]
    },
    {
     "name": "stderr",
     "output_type": "stream",
     "text": [
      "mode: train, epoch: 36, step: 2424, step_loss:  0.058008:  72%|███████▏  | 36/50 [41:41<16:16, 69.78s/it]"
     ]
    },
    {
     "name": "stdout",
     "output_type": "stream",
     "text": [
      "Successfully saved /home/mittal.nit/projects/super_image_resolution/assets/unet_l1loss_batchnorm/version_1/metrics\n"
     ]
    },
    {
     "name": "stderr",
     "output_type": "stream",
     "text": [
      "mode: train, epoch: 36, step: 2449, step_loss:  0.068200:  72%|███████▏  | 36/50 [42:02<16:16, 69.78s/it]"
     ]
    },
    {
     "name": "stdout",
     "output_type": "stream",
     "text": [
      "Successfully saved /home/mittal.nit/projects/super_image_resolution/assets/unet_l1loss_batchnorm/version_1/metrics\n"
     ]
    },
    {
     "name": "stderr",
     "output_type": "stream",
     "text": [
      "mode: train, epoch: 36, step: 2474, step_loss:  0.070783:  72%|███████▏  | 36/50 [42:24<16:16, 69.78s/it]"
     ]
    },
    {
     "name": "stdout",
     "output_type": "stream",
     "text": [
      "Successfully saved /home/mittal.nit/projects/super_image_resolution/assets/unet_l1loss_batchnorm/version_1/metrics\n"
     ]
    },
    {
     "name": "stderr",
     "output_type": "stream",
     "text": [
      "mode: train, epoch: 37, step: 2499, step_loss:  0.065159:  74%|███████▍  | 37/50 [42:58<15:21, 70.85s/it]"
     ]
    },
    {
     "name": "stdout",
     "output_type": "stream",
     "text": [
      "Successfully saved /home/mittal.nit/projects/super_image_resolution/assets/unet_l1loss_batchnorm/version_1/metrics\n"
     ]
    },
    {
     "name": "stderr",
     "output_type": "stream",
     "text": [
      "mode: train, epoch: 37, step: 2524, step_loss:  0.054607:  74%|███████▍  | 37/50 [43:19<15:21, 70.85s/it]"
     ]
    },
    {
     "name": "stdout",
     "output_type": "stream",
     "text": [
      "Successfully saved /home/mittal.nit/projects/super_image_resolution/assets/unet_l1loss_batchnorm/version_1/metrics\n"
     ]
    },
    {
     "name": "stderr",
     "output_type": "stream",
     "text": [
      "mode: train, epoch: 38, step: 2549, step_loss:  0.070977:  76%|███████▌  | 38/50 [43:53<13:46, 68.86s/it]"
     ]
    },
    {
     "name": "stdout",
     "output_type": "stream",
     "text": [
      "Successfully saved /home/mittal.nit/projects/super_image_resolution/assets/unet_l1loss_batchnorm/version_1/metrics\n"
     ]
    },
    {
     "name": "stderr",
     "output_type": "stream",
     "text": [
      "mode: train, epoch: 38, step: 2574, step_loss:  0.047567:  76%|███████▌  | 38/50 [44:14<13:46, 68.86s/it]"
     ]
    },
    {
     "name": "stdout",
     "output_type": "stream",
     "text": [
      "Successfully saved /home/mittal.nit/projects/super_image_resolution/assets/unet_l1loss_batchnorm/version_1/metrics\n"
     ]
    },
    {
     "name": "stderr",
     "output_type": "stream",
     "text": [
      "mode: train, epoch: 38, step: 2599, step_loss:  0.059711:  76%|███████▌  | 38/50 [44:34<13:46, 68.86s/it]"
     ]
    },
    {
     "name": "stdout",
     "output_type": "stream",
     "text": [
      "Successfully saved /home/mittal.nit/projects/super_image_resolution/assets/unet_l1loss_batchnorm/version_1/metrics\n"
     ]
    },
    {
     "name": "stderr",
     "output_type": "stream",
     "text": [
      "mode: train, epoch: 39, step: 2624, step_loss:  0.052017:  78%|███████▊  | 39/50 [45:08<12:43, 69.40s/it]"
     ]
    },
    {
     "name": "stdout",
     "output_type": "stream",
     "text": [
      "Successfully saved /home/mittal.nit/projects/super_image_resolution/assets/unet_l1loss_batchnorm/version_1/metrics\n"
     ]
    },
    {
     "name": "stderr",
     "output_type": "stream",
     "text": [
      "mode: train, epoch: 39, step: 2649, step_loss:  0.088508:  78%|███████▊  | 39/50 [45:30<12:43, 69.40s/it]"
     ]
    },
    {
     "name": "stdout",
     "output_type": "stream",
     "text": [
      "Successfully saved /home/mittal.nit/projects/super_image_resolution/assets/unet_l1loss_batchnorm/version_1/metrics\n"
     ]
    },
    {
     "name": "stderr",
     "output_type": "stream",
     "text": [
      "mode: train, epoch: 39, step: 2674, step_loss:  0.054792:  78%|███████▊  | 39/50 [45:51<12:43, 69.40s/it]"
     ]
    },
    {
     "name": "stdout",
     "output_type": "stream",
     "text": [
      "Successfully saved /home/mittal.nit/projects/super_image_resolution/assets/unet_l1loss_batchnorm/version_1/metrics\n"
     ]
    },
    {
     "name": "stderr",
     "output_type": "stream",
     "text": [
      "mode: train, epoch: 40, step: 2699, step_loss:  0.048891:  80%|████████  | 40/50 [46:26<11:46, 70.67s/it]"
     ]
    },
    {
     "name": "stdout",
     "output_type": "stream",
     "text": [
      "Successfully saved /home/mittal.nit/projects/super_image_resolution/assets/unet_l1loss_batchnorm/version_1/metrics\n"
     ]
    },
    {
     "name": "stderr",
     "output_type": "stream",
     "text": [
      "mode: train, epoch: 40, step: 2724, step_loss:  0.045723:  80%|████████  | 40/50 [46:47<11:46, 70.67s/it]"
     ]
    },
    {
     "name": "stdout",
     "output_type": "stream",
     "text": [
      "Successfully saved /home/mittal.nit/projects/super_image_resolution/assets/unet_l1loss_batchnorm/version_1/metrics\n"
     ]
    },
    {
     "name": "stderr",
     "output_type": "stream",
     "text": [
      "mode: train, epoch: 41, step: 2749, step_loss:  0.055024:  82%|████████▏ | 41/50 [47:20<10:13, 68.14s/it]"
     ]
    },
    {
     "name": "stdout",
     "output_type": "stream",
     "text": [
      "Successfully saved /home/mittal.nit/projects/super_image_resolution/assets/unet_l1loss_batchnorm/version_1/metrics\n"
     ]
    },
    {
     "name": "stderr",
     "output_type": "stream",
     "text": [
      "mode: train, epoch: 41, step: 2774, step_loss:  0.056690:  82%|████████▏ | 41/50 [47:40<10:13, 68.14s/it]"
     ]
    },
    {
     "name": "stdout",
     "output_type": "stream",
     "text": [
      "Successfully saved /home/mittal.nit/projects/super_image_resolution/assets/unet_l1loss_batchnorm/version_1/metrics\n"
     ]
    },
    {
     "name": "stderr",
     "output_type": "stream",
     "text": [
      "mode: train, epoch: 41, step: 2799, step_loss:  0.049618:  82%|████████▏ | 41/50 [48:00<10:13, 68.14s/it]"
     ]
    },
    {
     "name": "stdout",
     "output_type": "stream",
     "text": [
      "Successfully saved /home/mittal.nit/projects/super_image_resolution/assets/unet_l1loss_batchnorm/version_1/metrics\n"
     ]
    },
    {
     "name": "stderr",
     "output_type": "stream",
     "text": [
      "mode: train, epoch: 42, step: 2824, step_loss:  0.068987:  84%|████████▍ | 42/50 [48:33<09:07, 68.50s/it]"
     ]
    },
    {
     "name": "stdout",
     "output_type": "stream",
     "text": [
      "Successfully saved /home/mittal.nit/projects/super_image_resolution/assets/unet_l1loss_batchnorm/version_1/metrics\n"
     ]
    },
    {
     "name": "stderr",
     "output_type": "stream",
     "text": [
      "mode: train, epoch: 42, step: 2849, step_loss:  0.059805:  84%|████████▍ | 42/50 [48:55<09:07, 68.50s/it]"
     ]
    },
    {
     "name": "stdout",
     "output_type": "stream",
     "text": [
      "Successfully saved /home/mittal.nit/projects/super_image_resolution/assets/unet_l1loss_batchnorm/version_1/metrics\n"
     ]
    },
    {
     "name": "stderr",
     "output_type": "stream",
     "text": [
      "mode: train, epoch: 42, step: 2874, step_loss:  0.055820:  84%|████████▍ | 42/50 [49:15<09:07, 68.50s/it]"
     ]
    },
    {
     "name": "stdout",
     "output_type": "stream",
     "text": [
      "Successfully saved /home/mittal.nit/projects/super_image_resolution/assets/unet_l1loss_batchnorm/version_1/metrics\n"
     ]
    },
    {
     "name": "stderr",
     "output_type": "stream",
     "text": [
      "mode: train, epoch: 43, step: 2899, step_loss:  0.059920:  86%|████████▌ | 43/50 [49:51<08:10, 70.07s/it]"
     ]
    },
    {
     "name": "stdout",
     "output_type": "stream",
     "text": [
      "Successfully saved /home/mittal.nit/projects/super_image_resolution/assets/unet_l1loss_batchnorm/version_1/metrics\n"
     ]
    },
    {
     "name": "stderr",
     "output_type": "stream",
     "text": [
      "mode: train, epoch: 43, step: 2924, step_loss:  0.071868:  86%|████████▌ | 43/50 [50:12<08:10, 70.07s/it]"
     ]
    },
    {
     "name": "stdout",
     "output_type": "stream",
     "text": [
      "Successfully saved /home/mittal.nit/projects/super_image_resolution/assets/unet_l1loss_batchnorm/version_1/metrics\n"
     ]
    },
    {
     "name": "stderr",
     "output_type": "stream",
     "text": [
      "mode: train, epoch: 44, step: 2949, step_loss:  0.047749:  88%|████████▊ | 44/50 [50:45<06:48, 68.04s/it]"
     ]
    },
    {
     "name": "stdout",
     "output_type": "stream",
     "text": [
      "Successfully saved /home/mittal.nit/projects/super_image_resolution/assets/unet_l1loss_batchnorm/version_1/metrics\n"
     ]
    },
    {
     "name": "stderr",
     "output_type": "stream",
     "text": [
      "mode: train, epoch: 44, step: 2974, step_loss:  0.057242:  88%|████████▊ | 44/50 [51:07<06:48, 68.04s/it]"
     ]
    },
    {
     "name": "stdout",
     "output_type": "stream",
     "text": [
      "Successfully saved /home/mittal.nit/projects/super_image_resolution/assets/unet_l1loss_batchnorm/version_1/metrics\n"
     ]
    },
    {
     "name": "stderr",
     "output_type": "stream",
     "text": [
      "mode: train, epoch: 44, step: 2999, step_loss:  0.055409:  88%|████████▊ | 44/50 [51:27<06:48, 68.04s/it]"
     ]
    },
    {
     "name": "stdout",
     "output_type": "stream",
     "text": [
      "Successfully saved /home/mittal.nit/projects/super_image_resolution/assets/unet_l1loss_batchnorm/version_1/metrics\n"
     ]
    },
    {
     "name": "stderr",
     "output_type": "stream",
     "text": [
      "mode: train, epoch: 45, step: 3024, step_loss:  0.059704:  90%|█████████ | 45/50 [52:02<05:47, 69.47s/it]"
     ]
    },
    {
     "name": "stdout",
     "output_type": "stream",
     "text": [
      "Successfully saved /home/mittal.nit/projects/super_image_resolution/assets/unet_l1loss_batchnorm/version_1/metrics\n"
     ]
    },
    {
     "name": "stderr",
     "output_type": "stream",
     "text": [
      "mode: train, epoch: 45, step: 3049, step_loss:  0.074713:  90%|█████████ | 45/50 [52:23<05:47, 69.47s/it]"
     ]
    },
    {
     "name": "stdout",
     "output_type": "stream",
     "text": [
      "Successfully saved /home/mittal.nit/projects/super_image_resolution/assets/unet_l1loss_batchnorm/version_1/metrics\n"
     ]
    },
    {
     "name": "stderr",
     "output_type": "stream",
     "text": [
      "mode: train, epoch: 45, step: 3074, step_loss:  0.042353:  90%|█████████ | 45/50 [52:44<05:47, 69.47s/it]"
     ]
    },
    {
     "name": "stdout",
     "output_type": "stream",
     "text": [
      "Successfully saved /home/mittal.nit/projects/super_image_resolution/assets/unet_l1loss_batchnorm/version_1/metrics\n"
     ]
    },
    {
     "name": "stderr",
     "output_type": "stream",
     "text": [
      "mode: train, epoch: 46, step: 3099, step_loss:  0.048390:  92%|█████████▏| 46/50 [53:18<04:40, 70.10s/it]"
     ]
    },
    {
     "name": "stdout",
     "output_type": "stream",
     "text": [
      "Successfully saved /home/mittal.nit/projects/super_image_resolution/assets/unet_l1loss_batchnorm/version_1/metrics\n"
     ]
    },
    {
     "name": "stderr",
     "output_type": "stream",
     "text": [
      "mode: train, epoch: 46, step: 3124, step_loss:  0.048265:  92%|█████████▏| 46/50 [53:38<04:40, 70.10s/it]"
     ]
    },
    {
     "name": "stdout",
     "output_type": "stream",
     "text": [
      "Successfully saved /home/mittal.nit/projects/super_image_resolution/assets/unet_l1loss_batchnorm/version_1/metrics\n"
     ]
    },
    {
     "name": "stderr",
     "output_type": "stream",
     "text": [
      "mode: train, epoch: 47, step: 3149, step_loss:  0.046381:  94%|█████████▍| 47/50 [54:12<03:23, 67.95s/it]"
     ]
    },
    {
     "name": "stdout",
     "output_type": "stream",
     "text": [
      "Successfully saved /home/mittal.nit/projects/super_image_resolution/assets/unet_l1loss_batchnorm/version_1/metrics\n"
     ]
    },
    {
     "name": "stderr",
     "output_type": "stream",
     "text": [
      "mode: train, epoch: 47, step: 3174, step_loss:  0.044283:  94%|█████████▍| 47/50 [54:33<03:23, 67.95s/it]"
     ]
    },
    {
     "name": "stdout",
     "output_type": "stream",
     "text": [
      "Successfully saved /home/mittal.nit/projects/super_image_resolution/assets/unet_l1loss_batchnorm/version_1/metrics\n"
     ]
    },
    {
     "name": "stderr",
     "output_type": "stream",
     "text": [
      "mode: train, epoch: 47, step: 3199, step_loss:  0.067259:  94%|█████████▍| 47/50 [54:53<03:23, 67.95s/it]"
     ]
    },
    {
     "name": "stdout",
     "output_type": "stream",
     "text": [
      "Successfully saved /home/mittal.nit/projects/super_image_resolution/assets/unet_l1loss_batchnorm/version_1/metrics\n"
     ]
    },
    {
     "name": "stderr",
     "output_type": "stream",
     "text": [
      "mode: train, epoch: 48, step: 3224, step_loss:  0.040528:  96%|█████████▌| 48/50 [55:25<02:16, 68.23s/it]"
     ]
    },
    {
     "name": "stdout",
     "output_type": "stream",
     "text": [
      "Successfully saved /home/mittal.nit/projects/super_image_resolution/assets/unet_l1loss_batchnorm/version_1/metrics\n"
     ]
    },
    {
     "name": "stderr",
     "output_type": "stream",
     "text": [
      "mode: train, epoch: 48, step: 3249, step_loss:  0.053358:  96%|█████████▌| 48/50 [55:45<02:16, 68.23s/it]"
     ]
    },
    {
     "name": "stdout",
     "output_type": "stream",
     "text": [
      "Successfully saved /home/mittal.nit/projects/super_image_resolution/assets/unet_l1loss_batchnorm/version_1/metrics\n"
     ]
    },
    {
     "name": "stderr",
     "output_type": "stream",
     "text": [
      "mode: train, epoch: 48, step: 3274, step_loss:  0.048442:  96%|█████████▌| 48/50 [56:07<02:16, 68.23s/it]"
     ]
    },
    {
     "name": "stdout",
     "output_type": "stream",
     "text": [
      "Successfully saved /home/mittal.nit/projects/super_image_resolution/assets/unet_l1loss_batchnorm/version_1/metrics\n"
     ]
    },
    {
     "name": "stderr",
     "output_type": "stream",
     "text": [
      "mode: train, epoch: 49, step: 3299, step_loss:  0.065619:  98%|█████████▊| 49/50 [56:39<01:08, 68.67s/it]"
     ]
    },
    {
     "name": "stdout",
     "output_type": "stream",
     "text": [
      "Successfully saved /home/mittal.nit/projects/super_image_resolution/assets/unet_l1loss_batchnorm/version_1/metrics\n"
     ]
    },
    {
     "name": "stderr",
     "output_type": "stream",
     "text": [
      "mode: train, epoch: 49, step: 3324, step_loss:  0.045207:  98%|█████████▊| 49/50 [57:00<01:08, 68.67s/it]"
     ]
    },
    {
     "name": "stdout",
     "output_type": "stream",
     "text": [
      "Successfully saved /home/mittal.nit/projects/super_image_resolution/assets/unet_l1loss_batchnorm/version_1/metrics\n"
     ]
    },
    {
     "name": "stderr",
     "output_type": "stream",
     "text": [
      "mode: train, epoch: 49, epoch_loss:  0.055476:  98%|█████████▊| 49/50 [57:29<01:08, 68.67s/it]           "
     ]
    },
    {
     "name": "stdout",
     "output_type": "stream",
     "text": [
      "Successfully saved /home/mittal.nit/projects/super_image_resolution/assets/unet_l1loss_batchnorm/version_1/metrics\n"
     ]
    },
    {
     "name": "stderr",
     "output_type": "stream",
     "text": [
      "                                                                                                      \r"
     ]
    }
   ],
   "source": [
    "train_step_no, val_step_no = 0, 0\n",
    "\n",
    "t = tqdm(range(HPARAMS[\"EPOCHS\"]), leave=False)\n",
    "for epoch_i in t:\n",
    "    ###################### train mode ######################\n",
    "    epoch_loss = 0.\n",
    "    n = 0\n",
    "    \n",
    "    for (X, Y) in train_loader:\n",
    "        X, Y = X.to(HPARAMS[\"DEVICE\"]), Y.to(HPARAMS[\"DEVICE\"]) \n",
    "        \n",
    "        loss = training_step(model, X, Y)\n",
    "        metrics[\"train\"][\"step\"].append(loss)\n",
    "        info = (f\"mode: train, epoch: {epoch_i}, step: {train_step_no}, step_loss: {loss: .6f}\")\n",
    "        t.set_description(info)\n",
    "        logging.info(info)\n",
    "\n",
    "        epoch_loss += (loss * len(X))\n",
    "        n += len(X)\n",
    "        train_step_no += 1\n",
    "\n",
    "        # intermediate val outputs\n",
    "        if train_step_no % HPARAMS[\"INBETWEEN_TRAIN_VAL_CHECK_INTERVAL\"] == 0:\n",
    "            for val_batch_i, (X, Y) in enumerate(val_loader):\n",
    "                if .5 > np.random.uniform(): # not save all intermediate results\n",
    "                    X, Y = X.to(HPARAMS[\"DEVICE\"]), Y.to(HPARAMS[\"DEVICE\"])\n",
    "                    loss, Y_hat = validation_step(model, X, Y)\n",
    "                    # inverse normalization\n",
    "                    X = in_invert_norm(X.to(\"cpu\"))\n",
    "                    Y = out_invert_norm(Y.to(\"cpu\"))\n",
    "                    Y_hat = out_invert_norm(Y_hat.to(\"cpu\"))\n",
    "                    save_output(\n",
    "                        in_=X,\n",
    "                        out_true=Y, \n",
    "                        out_pred=Y_hat, \n",
    "                        fp=os.path.join(HPARAMS[\"IMAGES_PATH\"], f\"train_step_{train_step_no}_val_batch_{val_batch_i}\"),\n",
    "                        max_save=HPARAMS[\"MAX_VAL_SAVE_SAMPLES\"],\n",
    "                        random_save=HPARAMS[\"VAL_RANDOM_SAVE_SAMPLES\"])\n",
    "                    \n",
    "        if train_step_no % HPARAMS[\"INBETWEEN_SAVE_METRICS_INTERVAL\"] == 0:\n",
    "            dump(os.path.join(HPARAMS[\"EXPERIMENT_VERSION_PATH\"], HPARAMS[\"METRICS\"]), metrics)\n",
    "\n",
    "    epoch_loss /= n\n",
    "    metrics[\"train\"][\"epoch\"].append(epoch_loss)\n",
    "\n",
    "    info = (f\"mode: train, epoch: {epoch_i}, epoch_loss: {epoch_loss: .6f}\")\n",
    "    t.set_description(info)\n",
    "    logging.info(info)\n",
    "        \n",
    "    ###################### val mode ######################\n",
    "    epoch_loss = 0.\n",
    "    n = 0\n",
    "    for X, Y in val_loader:\n",
    "        X, Y = X.to(HPARAMS[\"DEVICE\"]), Y.to(HPARAMS[\"DEVICE\"])\n",
    "        loss, _ = validation_step(model, X, Y)\n",
    "        metrics[\"val\"][\"step\"].append(loss)\n",
    "        info = (f\"mode: val, epoch: {epoch_i}, step: {val_step_no}, step_loss: {loss: .6f}\")\n",
    "        t.set_description(info)\n",
    "        logging.info(info)\n",
    "\n",
    "        epoch_loss += (loss * len(X))\n",
    "        n += len(X)\n",
    "        val_step_no += 1\n",
    "\n",
    "    epoch_loss /= n\n",
    "    metrics[\"val\"][\"epoch\"].append(epoch_loss)\n",
    "\n",
    "    info = (f\"mode: val, epoch: {epoch_i}, epoch_loss: {epoch_loss: .6f}\")\n",
    "    t.set_description(info)\n",
    "    logging.info(info)\n",
    "        \n",
    "    # saving best model weights on basis of val epoch metrics \n",
    "    if epoch_loss <= metrics[\"min_val_loss\"]:\n",
    "        logging.info(\"Best model found, saving model, optimizer and lr_scheduler weights\")\n",
    "        metrics[\"min_val_loss\"] = epoch_loss\n",
    "        torch.save(model.state_dict(), os.path.join(HPARAMS[\"WEIGHTS_PATH\"], HPARAMS[\"MODEL_WEIGHTS\"]))\n",
    "        torch.save(optim.state_dict(), os.path.join(HPARAMS[\"WEIGHTS_PATH\"], HPARAMS[\"OPTIM_WEIGHTS\"]))\n",
    "        torch.save(lr_scheduler.state_dict(), os.path.join(HPARAMS[\"WEIGHTS_PATH\"], HPARAMS[\"LR_SCH_WEIGHTS\"]))"
   ]
  },
  {
   "cell_type": "code",
   "execution_count": 36,
   "id": "ef69efdf",
   "metadata": {},
   "outputs": [
    {
     "name": "stdout",
     "output_type": "stream",
     "text": [
      "Successfully saved /home/mittal.nit/projects/super_image_resolution/assets/unet_l1loss_batchnorm/version_1/metrics\n"
     ]
    }
   ],
   "source": [
    "dump(os.path.join(HPARAMS[\"EXPERIMENT_VERSION_PATH\"], HPARAMS[\"METRICS\"]), metrics)"
   ]
  }
 ],
 "metadata": {
  "kernelspec": {
   "display_name": "super_image_resolution",
   "language": "python",
   "name": "super_image_resolution"
  },
  "language_info": {
   "codemirror_mode": {
    "name": "ipython",
    "version": 3
   },
   "file_extension": ".py",
   "mimetype": "text/x-python",
   "name": "python",
   "nbconvert_exporter": "python",
   "pygments_lexer": "ipython3",
   "version": "3.9.2"
  }
 },
 "nbformat": 4,
 "nbformat_minor": 5
}

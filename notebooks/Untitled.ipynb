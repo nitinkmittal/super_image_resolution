{
 "cells": [
  {
   "cell_type": "code",
   "execution_count": 1,
   "id": "acd8e36b",
   "metadata": {},
   "outputs": [],
   "source": [
    "%load_ext autoreload\n",
    "%autoreload 2"
   ]
  },
  {
   "cell_type": "code",
   "execution_count": 20,
   "id": "5b35cbdd",
   "metadata": {},
   "outputs": [],
   "source": [
    "from torchvision.transforms import Resize, Compose, InterpolationMode\n",
    "import pandas as pd\n",
    "import os\n",
    "from PIL import Image"
   ]
  },
  {
   "cell_type": "markdown",
   "id": "e329f400",
   "metadata": {},
   "source": [
    "## Importing custom modules"
   ]
  },
  {
   "cell_type": "code",
   "execution_count": 4,
   "id": "903eb6eb",
   "metadata": {},
   "outputs": [],
   "source": [
    "from super_image_resolution import get_root_path"
   ]
  },
  {
   "cell_type": "code",
   "execution_count": 8,
   "id": "b7812c2d",
   "metadata": {},
   "outputs": [],
   "source": [
    "HPARAMS = pd.read_pickle(\n",
    "    \"/home/mittal.nit/projects/super_image_resolution/\"\n",
    "    f\"assets/unet_l1loss_batchnorm48to128/version_2/hparams\")"
   ]
  },
  {
   "cell_type": "code",
   "execution_count": 15,
   "id": "616409eb",
   "metadata": {},
   "outputs": [],
   "source": [
    "img = Image.open(os.path.join(HPARAMS[\"DATA_PATH\"], os.listdir(HPARAMS[\"DATA_PATH\"])[0]))"
   ]
  },
  {
   "cell_type": "code",
   "execution_count": 21,
   "id": "d8d6c980",
   "metadata": {},
   "outputs": [],
   "source": [
    "lr_img = Compose([Resize(48), Resize(128, interpolation=InterpolationMode.NEAREST)])(img)\n",
    "lr_img.save(\"lr_sample.png\")"
   ]
  },
  {
   "cell_type": "code",
   "execution_count": null,
   "id": "792bd300",
   "metadata": {},
   "outputs": [],
   "source": [
    "lr_img"
   ]
  },
  {
   "cell_type": "code",
   "execution_count": null,
   "id": "e13b98d7",
   "metadata": {},
   "outputs": [],
   "source": []
  }
 ],
 "metadata": {
  "kernelspec": {
   "display_name": "super_image_resolution",
   "language": "python",
   "name": "super_image_resolution"
  },
  "language_info": {
   "codemirror_mode": {
    "name": "ipython",
    "version": 3
   },
   "file_extension": ".py",
   "mimetype": "text/x-python",
   "name": "python",
   "nbconvert_exporter": "python",
   "pygments_lexer": "ipython3",
   "version": "3.9.2"
  }
 },
 "nbformat": 4,
 "nbformat_minor": 5
}

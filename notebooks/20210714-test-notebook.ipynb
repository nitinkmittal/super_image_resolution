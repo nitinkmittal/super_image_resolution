{
 "cells": [
  {
   "cell_type": "code",
   "execution_count": 1,
   "id": "78457c75",
   "metadata": {},
   "outputs": [],
   "source": [
    "%load_ext autoreload\n",
    "%autoreload 2"
   ]
  },
  {
   "cell_type": "code",
   "execution_count": 57,
   "id": "60225d09",
   "metadata": {},
   "outputs": [],
   "source": [
    "from torchvision.transforms import Resize, Compose, InterpolationMode\n",
    "import pandas as pd\n",
    "import os\n",
    "from PIL import Image\n",
    "import numpy as np"
   ]
  },
  {
   "cell_type": "markdown",
   "id": "e728431a",
   "metadata": {},
   "source": [
    "## Importing custom modules"
   ]
  },
  {
   "cell_type": "code",
   "execution_count": 3,
   "id": "45322315",
   "metadata": {},
   "outputs": [],
   "source": [
    "from super_image_resolution import get_root_path"
   ]
  },
  {
   "cell_type": "code",
   "execution_count": 5,
   "id": "68ef9f26",
   "metadata": {},
   "outputs": [
    {
     "data": {
      "text/plain": [
       "['Invasive',\n",
       " 'Benign',\n",
       " 'InSitu',\n",
       " 'microscopy_ground_truth.csv',\n",
       " '.DS_Store',\n",
       " 'Normal']"
      ]
     },
     "execution_count": 5,
     "metadata": {},
     "output_type": "execute_result"
    }
   ],
   "source": [
    "WSI_IMAGES_PATH = \"/scratch/mittal.nit/ICIAR2018_BACH_Challenge/Photos\"\n",
    "os.listdir(WSI_IMAGES_PATH)"
   ]
  }
 ],
 "metadata": {
  "kernelspec": {
   "display_name": "super_image_resolution",
   "language": "python",
   "name": "super_image_resolution"
  },
  "language_info": {
   "codemirror_mode": {
    "name": "ipython",
    "version": 3
   },
   "file_extension": ".py",
   "mimetype": "text/x-python",
   "name": "python",
   "nbconvert_exporter": "python",
   "pygments_lexer": "ipython3",
   "version": "3.9.2"
  }
 },
 "nbformat": 4,
 "nbformat_minor": 5
}
